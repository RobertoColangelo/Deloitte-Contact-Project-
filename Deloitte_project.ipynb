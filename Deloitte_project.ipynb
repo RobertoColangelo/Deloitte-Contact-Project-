{
 "cells": [
  {
   "cell_type": "markdown",
   "metadata": {},
   "source": [
    "# Deloitte contact strategy project\n",
    "## Lisa Aita, Roberto Colangelo, Leonardo Petroni, Davide Rosatelli"
   ]
  },
  {
   "cell_type": "markdown",
   "metadata": {},
   "source": [
    "### Introduction and data exploration\n",
    "\n",
    "We started, as usual, importing all the necessary libraries and importing the csv provided as dataframe with pandas.\\\n",
    "The dataset is made up of 60578 rows and 64 columns. We carefully analyzed the data, identifying the most important and least understandable variables; and for each numeric column we also observed the main summary statistics.\n",
    "\n",
    "Trying to make visualization for some variables, we noticed that in most of the columns the values are very skewed, meaning that most of the rows have similar values (often 0) in many of the variables. Successively we drew two piecharts related to the different values of the variables 'GENDER' and 'BEHAVIOUR_SCORE' in order to better comprehend the customer set."
   ]
  },
  {
   "cell_type": "code",
   "execution_count": 1,
   "metadata": {},
   "outputs": [],
   "source": [
    "#libraries\n",
    "import pandas as pd\n",
    "import numpy as np\n",
    "import matplotlib.pyplot as plt\n",
    "import seaborn as sns\n",
    "import plotly.express as px\n",
    "from sklearn.model_selection  import train_test_split\n",
    "from sklearn.metrics import classification_report\n",
    "from sklearn import preprocessing\n",
    "from sklearn.naive_bayes import GaussianNB\n",
    "import sklearn.metrics\n",
    "import tensorflow as tf\n",
    "import keras \n",
    "from keras.models import Sequential\n",
    "from keras.layers import Dense\n",
    "from keras.layers import Dropout\n",
    "from sklearn.preprocessing import StandardScaler\n",
    "from sklearn.decomposition import PCA\n",
    "import random"
   ]
  },
  {
   "cell_type": "code",
   "execution_count": 2,
   "metadata": {},
   "outputs": [
    {
     "data": {
      "text/html": [
       "<div>\n",
       "<style scoped>\n",
       "    .dataframe tbody tr th:only-of-type {\n",
       "        vertical-align: middle;\n",
       "    }\n",
       "\n",
       "    .dataframe tbody tr th {\n",
       "        vertical-align: top;\n",
       "    }\n",
       "\n",
       "    .dataframe thead th {\n",
       "        text-align: right;\n",
       "    }\n",
       "</style>\n",
       "<table border=\"1\" class=\"dataframe\">\n",
       "  <thead>\n",
       "    <tr style=\"text-align: right;\">\n",
       "      <th></th>\n",
       "      <th>ID</th>\n",
       "      <th>GENRE</th>\n",
       "      <th>CONSENSUS_PRIVACY</th>\n",
       "      <th>LOYALTY_PROGRAM</th>\n",
       "      <th>LAST_MONTH_DESK_VISITS</th>\n",
       "      <th>LAST_3MONTHS_DESK_VISITS</th>\n",
       "      <th>LAST_YEAR_DESK_VISITS</th>\n",
       "      <th>LAST_MONTH_CC_REQUESTS</th>\n",
       "      <th>LAST_3MONTHS_CC_REQUESTS</th>\n",
       "      <th>LAST_YEAR_CC_REQUESTS</th>\n",
       "      <th>...</th>\n",
       "      <th>N_DEM_SOLUTION</th>\n",
       "      <th>N_SMS_SOLUTION</th>\n",
       "      <th>N_TLS_SOLUTION</th>\n",
       "      <th>YEAR_BIRTH</th>\n",
       "      <th>BEHAVIOUR_SCORE</th>\n",
       "      <th>CLC_STATUS</th>\n",
       "      <th>ACQUISITION_CHANNEL</th>\n",
       "      <th>LAST_GAS_PRODUCT</th>\n",
       "      <th>LAST_POWER_PRODUCT</th>\n",
       "      <th>LAST_CAMPAIGN_TIPOLOGY</th>\n",
       "    </tr>\n",
       "  </thead>\n",
       "  <tbody>\n",
       "    <tr>\n",
       "      <th>0</th>\n",
       "      <td>10</td>\n",
       "      <td>M</td>\n",
       "      <td>YES</td>\n",
       "      <td>1</td>\n",
       "      <td>0</td>\n",
       "      <td>0</td>\n",
       "      <td>0</td>\n",
       "      <td>0</td>\n",
       "      <td>0</td>\n",
       "      <td>10</td>\n",
       "      <td>...</td>\n",
       "      <td>0</td>\n",
       "      <td>0</td>\n",
       "      <td>0</td>\n",
       "      <td>1959</td>\n",
       "      <td>GOOD PAYER</td>\n",
       "      <td>4-Risk churn</td>\n",
       "      <td>CC</td>\n",
       "      <td>Traditional</td>\n",
       "      <td>NaN</td>\n",
       "      <td>Cross-Selling</td>\n",
       "    </tr>\n",
       "    <tr>\n",
       "      <th>1</th>\n",
       "      <td>20</td>\n",
       "      <td>F</td>\n",
       "      <td>NO</td>\n",
       "      <td>1</td>\n",
       "      <td>0</td>\n",
       "      <td>0</td>\n",
       "      <td>0</td>\n",
       "      <td>0</td>\n",
       "      <td>0</td>\n",
       "      <td>0</td>\n",
       "      <td>...</td>\n",
       "      <td>0</td>\n",
       "      <td>0</td>\n",
       "      <td>0</td>\n",
       "      <td>1962</td>\n",
       "      <td>GOOD PAYER</td>\n",
       "      <td>3-Customer Loyalty</td>\n",
       "      <td>CC</td>\n",
       "      <td>Traditional</td>\n",
       "      <td>NaN</td>\n",
       "      <td>Communication</td>\n",
       "    </tr>\n",
       "    <tr>\n",
       "      <th>2</th>\n",
       "      <td>22</td>\n",
       "      <td>F</td>\n",
       "      <td>YES</td>\n",
       "      <td>0</td>\n",
       "      <td>0</td>\n",
       "      <td>0</td>\n",
       "      <td>0</td>\n",
       "      <td>0</td>\n",
       "      <td>0</td>\n",
       "      <td>0</td>\n",
       "      <td>...</td>\n",
       "      <td>0</td>\n",
       "      <td>0</td>\n",
       "      <td>0</td>\n",
       "      <td>1960</td>\n",
       "      <td>LATECOMER</td>\n",
       "      <td>2-Customer</td>\n",
       "      <td>CC</td>\n",
       "      <td>Traditional</td>\n",
       "      <td>NaN</td>\n",
       "      <td>Cross-Selling</td>\n",
       "    </tr>\n",
       "    <tr>\n",
       "      <th>3</th>\n",
       "      <td>26</td>\n",
       "      <td>M</td>\n",
       "      <td>YES</td>\n",
       "      <td>1</td>\n",
       "      <td>0</td>\n",
       "      <td>0</td>\n",
       "      <td>0</td>\n",
       "      <td>0</td>\n",
       "      <td>0</td>\n",
       "      <td>0</td>\n",
       "      <td>...</td>\n",
       "      <td>0</td>\n",
       "      <td>0</td>\n",
       "      <td>0</td>\n",
       "      <td>1924</td>\n",
       "      <td>GOOD PAYER</td>\n",
       "      <td>2-Customer</td>\n",
       "      <td>CC</td>\n",
       "      <td>Traditional</td>\n",
       "      <td>NaN</td>\n",
       "      <td>Cross-Selling</td>\n",
       "    </tr>\n",
       "    <tr>\n",
       "      <th>4</th>\n",
       "      <td>32</td>\n",
       "      <td>F</td>\n",
       "      <td>YES</td>\n",
       "      <td>0</td>\n",
       "      <td>0</td>\n",
       "      <td>0</td>\n",
       "      <td>0</td>\n",
       "      <td>0</td>\n",
       "      <td>0</td>\n",
       "      <td>1</td>\n",
       "      <td>...</td>\n",
       "      <td>0</td>\n",
       "      <td>0</td>\n",
       "      <td>0</td>\n",
       "      <td>1967</td>\n",
       "      <td>GOOD PAYER</td>\n",
       "      <td>2-Customer</td>\n",
       "      <td>CC</td>\n",
       "      <td>Traditional</td>\n",
       "      <td>NaN</td>\n",
       "      <td>Cross-Selling</td>\n",
       "    </tr>\n",
       "    <tr>\n",
       "      <th>...</th>\n",
       "      <td>...</td>\n",
       "      <td>...</td>\n",
       "      <td>...</td>\n",
       "      <td>...</td>\n",
       "      <td>...</td>\n",
       "      <td>...</td>\n",
       "      <td>...</td>\n",
       "      <td>...</td>\n",
       "      <td>...</td>\n",
       "      <td>...</td>\n",
       "      <td>...</td>\n",
       "      <td>...</td>\n",
       "      <td>...</td>\n",
       "      <td>...</td>\n",
       "      <td>...</td>\n",
       "      <td>...</td>\n",
       "      <td>...</td>\n",
       "      <td>...</td>\n",
       "      <td>...</td>\n",
       "      <td>...</td>\n",
       "      <td>...</td>\n",
       "    </tr>\n",
       "    <tr>\n",
       "      <th>60573</th>\n",
       "      <td>430297</td>\n",
       "      <td>M</td>\n",
       "      <td>YES</td>\n",
       "      <td>0</td>\n",
       "      <td>0</td>\n",
       "      <td>0</td>\n",
       "      <td>0</td>\n",
       "      <td>0</td>\n",
       "      <td>0</td>\n",
       "      <td>0</td>\n",
       "      <td>...</td>\n",
       "      <td>0</td>\n",
       "      <td>0</td>\n",
       "      <td>0</td>\n",
       "      <td>1943</td>\n",
       "      <td>GOOD PAYER</td>\n",
       "      <td>2-Customer</td>\n",
       "      <td>CC</td>\n",
       "      <td>Traditional</td>\n",
       "      <td>NaN</td>\n",
       "      <td>Cross-Selling</td>\n",
       "    </tr>\n",
       "    <tr>\n",
       "      <th>60574</th>\n",
       "      <td>430300</td>\n",
       "      <td>M</td>\n",
       "      <td>YES</td>\n",
       "      <td>1</td>\n",
       "      <td>0</td>\n",
       "      <td>0</td>\n",
       "      <td>0</td>\n",
       "      <td>0</td>\n",
       "      <td>0</td>\n",
       "      <td>0</td>\n",
       "      <td>...</td>\n",
       "      <td>0</td>\n",
       "      <td>0</td>\n",
       "      <td>0</td>\n",
       "      <td>1947</td>\n",
       "      <td>GOOD PAYER</td>\n",
       "      <td>2-Customer</td>\n",
       "      <td>CC</td>\n",
       "      <td>Traditional</td>\n",
       "      <td>NaN</td>\n",
       "      <td>Cross-Selling</td>\n",
       "    </tr>\n",
       "    <tr>\n",
       "      <th>60575</th>\n",
       "      <td>430304</td>\n",
       "      <td>F</td>\n",
       "      <td>YES</td>\n",
       "      <td>1</td>\n",
       "      <td>0</td>\n",
       "      <td>0</td>\n",
       "      <td>0</td>\n",
       "      <td>0</td>\n",
       "      <td>0</td>\n",
       "      <td>0</td>\n",
       "      <td>...</td>\n",
       "      <td>0</td>\n",
       "      <td>0</td>\n",
       "      <td>0</td>\n",
       "      <td>1971</td>\n",
       "      <td>GOOD PAYER</td>\n",
       "      <td>2-Customer</td>\n",
       "      <td>CC</td>\n",
       "      <td>Traditional</td>\n",
       "      <td>NaN</td>\n",
       "      <td>Cross-Selling</td>\n",
       "    </tr>\n",
       "    <tr>\n",
       "      <th>60576</th>\n",
       "      <td>430305</td>\n",
       "      <td>M</td>\n",
       "      <td>YES</td>\n",
       "      <td>1</td>\n",
       "      <td>0</td>\n",
       "      <td>0</td>\n",
       "      <td>0</td>\n",
       "      <td>0</td>\n",
       "      <td>0</td>\n",
       "      <td>2</td>\n",
       "      <td>...</td>\n",
       "      <td>0</td>\n",
       "      <td>0</td>\n",
       "      <td>0</td>\n",
       "      <td>1966</td>\n",
       "      <td>GOOD PAYER</td>\n",
       "      <td>4-Risk churn</td>\n",
       "      <td>CC</td>\n",
       "      <td>Traditional</td>\n",
       "      <td>NaN</td>\n",
       "      <td>Cross-Selling</td>\n",
       "    </tr>\n",
       "    <tr>\n",
       "      <th>60577</th>\n",
       "      <td>430317</td>\n",
       "      <td>M</td>\n",
       "      <td>YES</td>\n",
       "      <td>1</td>\n",
       "      <td>0</td>\n",
       "      <td>0</td>\n",
       "      <td>0</td>\n",
       "      <td>0</td>\n",
       "      <td>0</td>\n",
       "      <td>0</td>\n",
       "      <td>...</td>\n",
       "      <td>0</td>\n",
       "      <td>0</td>\n",
       "      <td>0</td>\n",
       "      <td>1982</td>\n",
       "      <td>LATECOMER</td>\n",
       "      <td>2-Customer</td>\n",
       "      <td>CC</td>\n",
       "      <td>Traditional</td>\n",
       "      <td>NaN</td>\n",
       "      <td>Cross-Selling</td>\n",
       "    </tr>\n",
       "  </tbody>\n",
       "</table>\n",
       "<p>60578 rows × 64 columns</p>\n",
       "</div>"
      ],
      "text/plain": [
       "           ID GENRE CONSENSUS_PRIVACY  LOYALTY_PROGRAM  \\\n",
       "0          10     M               YES                1   \n",
       "1          20     F                NO                1   \n",
       "2          22     F               YES                0   \n",
       "3          26     M               YES                1   \n",
       "4          32     F               YES                0   \n",
       "...       ...   ...               ...              ...   \n",
       "60573  430297     M               YES                0   \n",
       "60574  430300     M               YES                1   \n",
       "60575  430304     F               YES                1   \n",
       "60576  430305     M               YES                1   \n",
       "60577  430317     M               YES                1   \n",
       "\n",
       "       LAST_MONTH_DESK_VISITS  LAST_3MONTHS_DESK_VISITS  \\\n",
       "0                           0                         0   \n",
       "1                           0                         0   \n",
       "2                           0                         0   \n",
       "3                           0                         0   \n",
       "4                           0                         0   \n",
       "...                       ...                       ...   \n",
       "60573                       0                         0   \n",
       "60574                       0                         0   \n",
       "60575                       0                         0   \n",
       "60576                       0                         0   \n",
       "60577                       0                         0   \n",
       "\n",
       "       LAST_YEAR_DESK_VISITS  LAST_MONTH_CC_REQUESTS  \\\n",
       "0                          0                       0   \n",
       "1                          0                       0   \n",
       "2                          0                       0   \n",
       "3                          0                       0   \n",
       "4                          0                       0   \n",
       "...                      ...                     ...   \n",
       "60573                      0                       0   \n",
       "60574                      0                       0   \n",
       "60575                      0                       0   \n",
       "60576                      0                       0   \n",
       "60577                      0                       0   \n",
       "\n",
       "       LAST_3MONTHS_CC_REQUESTS  LAST_YEAR_CC_REQUESTS  ... N_DEM_SOLUTION  \\\n",
       "0                             0                     10  ...              0   \n",
       "1                             0                      0  ...              0   \n",
       "2                             0                      0  ...              0   \n",
       "3                             0                      0  ...              0   \n",
       "4                             0                      1  ...              0   \n",
       "...                         ...                    ...  ...            ...   \n",
       "60573                         0                      0  ...              0   \n",
       "60574                         0                      0  ...              0   \n",
       "60575                         0                      0  ...              0   \n",
       "60576                         0                      2  ...              0   \n",
       "60577                         0                      0  ...              0   \n",
       "\n",
       "      N_SMS_SOLUTION  N_TLS_SOLUTION YEAR_BIRTH  BEHAVIOUR_SCORE  \\\n",
       "0                  0               0       1959       GOOD PAYER   \n",
       "1                  0               0       1962       GOOD PAYER   \n",
       "2                  0               0       1960        LATECOMER   \n",
       "3                  0               0       1924       GOOD PAYER   \n",
       "4                  0               0       1967       GOOD PAYER   \n",
       "...              ...             ...        ...              ...   \n",
       "60573              0               0       1943       GOOD PAYER   \n",
       "60574              0               0       1947       GOOD PAYER   \n",
       "60575              0               0       1971       GOOD PAYER   \n",
       "60576              0               0       1966       GOOD PAYER   \n",
       "60577              0               0       1982        LATECOMER   \n",
       "\n",
       "               CLC_STATUS  ACQUISITION_CHANNEL  LAST_GAS_PRODUCT  \\\n",
       "0            4-Risk churn                   CC       Traditional   \n",
       "1      3-Customer Loyalty                   CC       Traditional   \n",
       "2              2-Customer                   CC       Traditional   \n",
       "3              2-Customer                   CC       Traditional   \n",
       "4              2-Customer                   CC       Traditional   \n",
       "...                   ...                  ...               ...   \n",
       "60573          2-Customer                   CC       Traditional   \n",
       "60574          2-Customer                   CC       Traditional   \n",
       "60575          2-Customer                   CC       Traditional   \n",
       "60576        4-Risk churn                   CC       Traditional   \n",
       "60577          2-Customer                   CC       Traditional   \n",
       "\n",
       "       LAST_POWER_PRODUCT  LAST_CAMPAIGN_TIPOLOGY  \n",
       "0                     NaN           Cross-Selling  \n",
       "1                     NaN           Communication  \n",
       "2                     NaN           Cross-Selling  \n",
       "3                     NaN           Cross-Selling  \n",
       "4                     NaN           Cross-Selling  \n",
       "...                   ...                     ...  \n",
       "60573                 NaN           Cross-Selling  \n",
       "60574                 NaN           Cross-Selling  \n",
       "60575                 NaN           Cross-Selling  \n",
       "60576                 NaN           Cross-Selling  \n",
       "60577                 NaN           Cross-Selling  \n",
       "\n",
       "[60578 rows x 64 columns]"
      ]
     },
     "execution_count": 2,
     "metadata": {},
     "output_type": "execute_result"
    }
   ],
   "source": [
    "#importing the dataset\n",
    "df=pd.read_csv('DLT_AI_and_DATA_CUSTOMER_BASE_EN.csv',sep=';',encoding='ISO-8859-1')\n",
    "df"
   ]
  },
  {
   "cell_type": "code",
   "execution_count": 3,
   "metadata": {},
   "outputs": [
    {
     "data": {
      "text/html": [
       "<div>\n",
       "<style scoped>\n",
       "    .dataframe tbody tr th:only-of-type {\n",
       "        vertical-align: middle;\n",
       "    }\n",
       "\n",
       "    .dataframe tbody tr th {\n",
       "        vertical-align: top;\n",
       "    }\n",
       "\n",
       "    .dataframe thead th {\n",
       "        text-align: right;\n",
       "    }\n",
       "</style>\n",
       "<table border=\"1\" class=\"dataframe\">\n",
       "  <thead>\n",
       "    <tr style=\"text-align: right;\">\n",
       "      <th></th>\n",
       "      <th>ID</th>\n",
       "      <th>LOYALTY_PROGRAM</th>\n",
       "      <th>LAST_MONTH_DESK_VISITS</th>\n",
       "      <th>LAST_3MONTHS_DESK_VISITS</th>\n",
       "      <th>LAST_YEAR_DESK_VISITS</th>\n",
       "      <th>LAST_MONTH_CC_REQUESTS</th>\n",
       "      <th>LAST_3MONTHS_CC_REQUESTS</th>\n",
       "      <th>LAST_YEAR_CC_REQUESTS</th>\n",
       "      <th>SOLUTIONS</th>\n",
       "      <th>N_GAS_POINTS</th>\n",
       "      <th>...</th>\n",
       "      <th>N_DEM_RENEWAL</th>\n",
       "      <th>N_SMS_RENEWAL</th>\n",
       "      <th>N_TLS_RENEWAL</th>\n",
       "      <th>N_DEM_CROSS_SELLING</th>\n",
       "      <th>N_SMS_CROSS_SELLING</th>\n",
       "      <th>N_TLS_CROSS_SELLING</th>\n",
       "      <th>N_DEM_SOLUTION</th>\n",
       "      <th>N_SMS_SOLUTION</th>\n",
       "      <th>N_TLS_SOLUTION</th>\n",
       "      <th>YEAR_BIRTH</th>\n",
       "    </tr>\n",
       "  </thead>\n",
       "  <tbody>\n",
       "    <tr>\n",
       "      <th>count</th>\n",
       "      <td>60578.000000</td>\n",
       "      <td>60578.000000</td>\n",
       "      <td>60578.000000</td>\n",
       "      <td>60578.000000</td>\n",
       "      <td>60578.000000</td>\n",
       "      <td>60578.000000</td>\n",
       "      <td>60578.000000</td>\n",
       "      <td>60578.000000</td>\n",
       "      <td>60578.000000</td>\n",
       "      <td>60578.000000</td>\n",
       "      <td>...</td>\n",
       "      <td>60578.000000</td>\n",
       "      <td>60578.0</td>\n",
       "      <td>60578.0</td>\n",
       "      <td>60578.000000</td>\n",
       "      <td>60578.000000</td>\n",
       "      <td>60578.000000</td>\n",
       "      <td>60578.000000</td>\n",
       "      <td>60578.000000</td>\n",
       "      <td>60578.0</td>\n",
       "      <td>60578.000000</td>\n",
       "    </tr>\n",
       "    <tr>\n",
       "      <th>mean</th>\n",
       "      <td>213378.983922</td>\n",
       "      <td>0.398214</td>\n",
       "      <td>0.008733</td>\n",
       "      <td>0.017861</td>\n",
       "      <td>0.068457</td>\n",
       "      <td>0.036796</td>\n",
       "      <td>0.087193</td>\n",
       "      <td>0.409059</td>\n",
       "      <td>0.002905</td>\n",
       "      <td>1.025009</td>\n",
       "      <td>...</td>\n",
       "      <td>0.023177</td>\n",
       "      <td>0.0</td>\n",
       "      <td>0.0</td>\n",
       "      <td>0.038050</td>\n",
       "      <td>0.142510</td>\n",
       "      <td>1.015286</td>\n",
       "      <td>0.025686</td>\n",
       "      <td>0.125953</td>\n",
       "      <td>0.0</td>\n",
       "      <td>1951.377216</td>\n",
       "    </tr>\n",
       "    <tr>\n",
       "      <th>std</th>\n",
       "      <td>125594.731490</td>\n",
       "      <td>0.489534</td>\n",
       "      <td>0.131052</td>\n",
       "      <td>0.212936</td>\n",
       "      <td>0.554284</td>\n",
       "      <td>0.299037</td>\n",
       "      <td>0.553842</td>\n",
       "      <td>1.494119</td>\n",
       "      <td>0.053823</td>\n",
       "      <td>0.180477</td>\n",
       "      <td>...</td>\n",
       "      <td>0.214126</td>\n",
       "      <td>0.0</td>\n",
       "      <td>0.0</td>\n",
       "      <td>0.298438</td>\n",
       "      <td>0.435759</td>\n",
       "      <td>0.490325</td>\n",
       "      <td>0.240577</td>\n",
       "      <td>0.451028</td>\n",
       "      <td>0.0</td>\n",
       "      <td>15.956064</td>\n",
       "    </tr>\n",
       "    <tr>\n",
       "      <th>min</th>\n",
       "      <td>10.000000</td>\n",
       "      <td>0.000000</td>\n",
       "      <td>0.000000</td>\n",
       "      <td>0.000000</td>\n",
       "      <td>0.000000</td>\n",
       "      <td>0.000000</td>\n",
       "      <td>0.000000</td>\n",
       "      <td>0.000000</td>\n",
       "      <td>0.000000</td>\n",
       "      <td>0.000000</td>\n",
       "      <td>...</td>\n",
       "      <td>0.000000</td>\n",
       "      <td>0.0</td>\n",
       "      <td>0.0</td>\n",
       "      <td>0.000000</td>\n",
       "      <td>0.000000</td>\n",
       "      <td>0.000000</td>\n",
       "      <td>0.000000</td>\n",
       "      <td>0.000000</td>\n",
       "      <td>0.0</td>\n",
       "      <td>1898.000000</td>\n",
       "    </tr>\n",
       "    <tr>\n",
       "      <th>25%</th>\n",
       "      <td>102515.500000</td>\n",
       "      <td>0.000000</td>\n",
       "      <td>0.000000</td>\n",
       "      <td>0.000000</td>\n",
       "      <td>0.000000</td>\n",
       "      <td>0.000000</td>\n",
       "      <td>0.000000</td>\n",
       "      <td>0.000000</td>\n",
       "      <td>0.000000</td>\n",
       "      <td>1.000000</td>\n",
       "      <td>...</td>\n",
       "      <td>0.000000</td>\n",
       "      <td>0.0</td>\n",
       "      <td>0.0</td>\n",
       "      <td>0.000000</td>\n",
       "      <td>0.000000</td>\n",
       "      <td>1.000000</td>\n",
       "      <td>0.000000</td>\n",
       "      <td>0.000000</td>\n",
       "      <td>0.0</td>\n",
       "      <td>1938.000000</td>\n",
       "    </tr>\n",
       "    <tr>\n",
       "      <th>50%</th>\n",
       "      <td>213236.500000</td>\n",
       "      <td>0.000000</td>\n",
       "      <td>0.000000</td>\n",
       "      <td>0.000000</td>\n",
       "      <td>0.000000</td>\n",
       "      <td>0.000000</td>\n",
       "      <td>0.000000</td>\n",
       "      <td>0.000000</td>\n",
       "      <td>0.000000</td>\n",
       "      <td>1.000000</td>\n",
       "      <td>...</td>\n",
       "      <td>0.000000</td>\n",
       "      <td>0.0</td>\n",
       "      <td>0.0</td>\n",
       "      <td>0.000000</td>\n",
       "      <td>0.000000</td>\n",
       "      <td>1.000000</td>\n",
       "      <td>0.000000</td>\n",
       "      <td>0.000000</td>\n",
       "      <td>0.0</td>\n",
       "      <td>1951.000000</td>\n",
       "    </tr>\n",
       "    <tr>\n",
       "      <th>75%</th>\n",
       "      <td>322660.500000</td>\n",
       "      <td>1.000000</td>\n",
       "      <td>0.000000</td>\n",
       "      <td>0.000000</td>\n",
       "      <td>0.000000</td>\n",
       "      <td>0.000000</td>\n",
       "      <td>0.000000</td>\n",
       "      <td>0.000000</td>\n",
       "      <td>0.000000</td>\n",
       "      <td>1.000000</td>\n",
       "      <td>...</td>\n",
       "      <td>0.000000</td>\n",
       "      <td>0.0</td>\n",
       "      <td>0.0</td>\n",
       "      <td>0.000000</td>\n",
       "      <td>0.000000</td>\n",
       "      <td>1.000000</td>\n",
       "      <td>0.000000</td>\n",
       "      <td>0.000000</td>\n",
       "      <td>0.0</td>\n",
       "      <td>1964.000000</td>\n",
       "    </tr>\n",
       "    <tr>\n",
       "      <th>max</th>\n",
       "      <td>430317.000000</td>\n",
       "      <td>1.000000</td>\n",
       "      <td>8.000000</td>\n",
       "      <td>10.000000</td>\n",
       "      <td>36.000000</td>\n",
       "      <td>13.000000</td>\n",
       "      <td>25.000000</td>\n",
       "      <td>62.000000</td>\n",
       "      <td>1.000000</td>\n",
       "      <td>8.000000</td>\n",
       "      <td>...</td>\n",
       "      <td>8.000000</td>\n",
       "      <td>0.0</td>\n",
       "      <td>0.0</td>\n",
       "      <td>8.000000</td>\n",
       "      <td>8.000000</td>\n",
       "      <td>4.000000</td>\n",
       "      <td>6.000000</td>\n",
       "      <td>8.000000</td>\n",
       "      <td>0.0</td>\n",
       "      <td>1997.000000</td>\n",
       "    </tr>\n",
       "  </tbody>\n",
       "</table>\n",
       "<p>8 rows × 46 columns</p>\n",
       "</div>"
      ],
      "text/plain": [
       "                  ID  LOYALTY_PROGRAM  LAST_MONTH_DESK_VISITS  \\\n",
       "count   60578.000000     60578.000000            60578.000000   \n",
       "mean   213378.983922         0.398214                0.008733   \n",
       "std    125594.731490         0.489534                0.131052   \n",
       "min        10.000000         0.000000                0.000000   \n",
       "25%    102515.500000         0.000000                0.000000   \n",
       "50%    213236.500000         0.000000                0.000000   \n",
       "75%    322660.500000         1.000000                0.000000   \n",
       "max    430317.000000         1.000000                8.000000   \n",
       "\n",
       "       LAST_3MONTHS_DESK_VISITS  LAST_YEAR_DESK_VISITS  \\\n",
       "count              60578.000000           60578.000000   \n",
       "mean                   0.017861               0.068457   \n",
       "std                    0.212936               0.554284   \n",
       "min                    0.000000               0.000000   \n",
       "25%                    0.000000               0.000000   \n",
       "50%                    0.000000               0.000000   \n",
       "75%                    0.000000               0.000000   \n",
       "max                   10.000000              36.000000   \n",
       "\n",
       "       LAST_MONTH_CC_REQUESTS  LAST_3MONTHS_CC_REQUESTS  \\\n",
       "count            60578.000000              60578.000000   \n",
       "mean                 0.036796                  0.087193   \n",
       "std                  0.299037                  0.553842   \n",
       "min                  0.000000                  0.000000   \n",
       "25%                  0.000000                  0.000000   \n",
       "50%                  0.000000                  0.000000   \n",
       "75%                  0.000000                  0.000000   \n",
       "max                 13.000000                 25.000000   \n",
       "\n",
       "       LAST_YEAR_CC_REQUESTS     SOLUTIONS  N_GAS_POINTS  ...  N_DEM_RENEWAL  \\\n",
       "count           60578.000000  60578.000000  60578.000000  ...   60578.000000   \n",
       "mean                0.409059      0.002905      1.025009  ...       0.023177   \n",
       "std                 1.494119      0.053823      0.180477  ...       0.214126   \n",
       "min                 0.000000      0.000000      0.000000  ...       0.000000   \n",
       "25%                 0.000000      0.000000      1.000000  ...       0.000000   \n",
       "50%                 0.000000      0.000000      1.000000  ...       0.000000   \n",
       "75%                 0.000000      0.000000      1.000000  ...       0.000000   \n",
       "max                62.000000      1.000000      8.000000  ...       8.000000   \n",
       "\n",
       "       N_SMS_RENEWAL  N_TLS_RENEWAL  N_DEM_CROSS_SELLING  N_SMS_CROSS_SELLING  \\\n",
       "count        60578.0        60578.0         60578.000000         60578.000000   \n",
       "mean             0.0            0.0             0.038050             0.142510   \n",
       "std              0.0            0.0             0.298438             0.435759   \n",
       "min              0.0            0.0             0.000000             0.000000   \n",
       "25%              0.0            0.0             0.000000             0.000000   \n",
       "50%              0.0            0.0             0.000000             0.000000   \n",
       "75%              0.0            0.0             0.000000             0.000000   \n",
       "max              0.0            0.0             8.000000             8.000000   \n",
       "\n",
       "       N_TLS_CROSS_SELLING  N_DEM_SOLUTION  N_SMS_SOLUTION  N_TLS_SOLUTION  \\\n",
       "count         60578.000000    60578.000000    60578.000000         60578.0   \n",
       "mean              1.015286        0.025686        0.125953             0.0   \n",
       "std               0.490325        0.240577        0.451028             0.0   \n",
       "min               0.000000        0.000000        0.000000             0.0   \n",
       "25%               1.000000        0.000000        0.000000             0.0   \n",
       "50%               1.000000        0.000000        0.000000             0.0   \n",
       "75%               1.000000        0.000000        0.000000             0.0   \n",
       "max               4.000000        6.000000        8.000000             0.0   \n",
       "\n",
       "         YEAR_BIRTH  \n",
       "count  60578.000000  \n",
       "mean    1951.377216  \n",
       "std       15.956064  \n",
       "min     1898.000000  \n",
       "25%     1938.000000  \n",
       "50%     1951.000000  \n",
       "75%     1964.000000  \n",
       "max     1997.000000  \n",
       "\n",
       "[8 rows x 46 columns]"
      ]
     },
     "execution_count": 3,
     "metadata": {},
     "output_type": "execute_result"
    }
   ],
   "source": [
    "#summary descriptive statistics\n",
    "df.describe()"
   ]
  },
  {
   "cell_type": "code",
   "execution_count": 4,
   "metadata": {},
   "outputs": [
    {
     "data": {
      "application/vnd.plotly.v1+json": {
       "config": {
        "plotlyServerURL": "https://plot.ly"
       },
       "data": [
        {
         "customdata": [
          [
           "F"
          ],
          [
           "M"
          ]
         ],
         "domain": {
          "x": [
           0,
           1
          ],
          "y": [
           0,
           1
          ]
         },
         "hoverinfo": "label+percent",
         "hovertemplate": "GENRE=%{customdata[0]}<br>count=%{value}<extra></extra>",
         "labels": [
          "F",
          "M"
         ],
         "legendgroup": "",
         "marker": {
          "colors": [
           "pink",
           "royalblue"
          ]
         },
         "name": "",
         "pull": [
          0.1
         ],
         "showlegend": true,
         "textfont": {
          "size": 12
         },
         "textinfo": "label+percent",
         "type": "pie",
         "values": [
          24116,
          36462
         ]
        }
       ],
       "layout": {
        "legend": {
         "tracegroupgap": 0
        },
        "template": {
         "data": {
          "bar": [
           {
            "error_x": {
             "color": "#2a3f5f"
            },
            "error_y": {
             "color": "#2a3f5f"
            },
            "marker": {
             "line": {
              "color": "#E5ECF6",
              "width": 0.5
             },
             "pattern": {
              "fillmode": "overlay",
              "size": 10,
              "solidity": 0.2
             }
            },
            "type": "bar"
           }
          ],
          "barpolar": [
           {
            "marker": {
             "line": {
              "color": "#E5ECF6",
              "width": 0.5
             },
             "pattern": {
              "fillmode": "overlay",
              "size": 10,
              "solidity": 0.2
             }
            },
            "type": "barpolar"
           }
          ],
          "carpet": [
           {
            "aaxis": {
             "endlinecolor": "#2a3f5f",
             "gridcolor": "white",
             "linecolor": "white",
             "minorgridcolor": "white",
             "startlinecolor": "#2a3f5f"
            },
            "baxis": {
             "endlinecolor": "#2a3f5f",
             "gridcolor": "white",
             "linecolor": "white",
             "minorgridcolor": "white",
             "startlinecolor": "#2a3f5f"
            },
            "type": "carpet"
           }
          ],
          "choropleth": [
           {
            "colorbar": {
             "outlinewidth": 0,
             "ticks": ""
            },
            "type": "choropleth"
           }
          ],
          "contour": [
           {
            "colorbar": {
             "outlinewidth": 0,
             "ticks": ""
            },
            "colorscale": [
             [
              0,
              "#0d0887"
             ],
             [
              0.1111111111111111,
              "#46039f"
             ],
             [
              0.2222222222222222,
              "#7201a8"
             ],
             [
              0.3333333333333333,
              "#9c179e"
             ],
             [
              0.4444444444444444,
              "#bd3786"
             ],
             [
              0.5555555555555556,
              "#d8576b"
             ],
             [
              0.6666666666666666,
              "#ed7953"
             ],
             [
              0.7777777777777778,
              "#fb9f3a"
             ],
             [
              0.8888888888888888,
              "#fdca26"
             ],
             [
              1,
              "#f0f921"
             ]
            ],
            "type": "contour"
           }
          ],
          "contourcarpet": [
           {
            "colorbar": {
             "outlinewidth": 0,
             "ticks": ""
            },
            "type": "contourcarpet"
           }
          ],
          "heatmap": [
           {
            "colorbar": {
             "outlinewidth": 0,
             "ticks": ""
            },
            "colorscale": [
             [
              0,
              "#0d0887"
             ],
             [
              0.1111111111111111,
              "#46039f"
             ],
             [
              0.2222222222222222,
              "#7201a8"
             ],
             [
              0.3333333333333333,
              "#9c179e"
             ],
             [
              0.4444444444444444,
              "#bd3786"
             ],
             [
              0.5555555555555556,
              "#d8576b"
             ],
             [
              0.6666666666666666,
              "#ed7953"
             ],
             [
              0.7777777777777778,
              "#fb9f3a"
             ],
             [
              0.8888888888888888,
              "#fdca26"
             ],
             [
              1,
              "#f0f921"
             ]
            ],
            "type": "heatmap"
           }
          ],
          "heatmapgl": [
           {
            "colorbar": {
             "outlinewidth": 0,
             "ticks": ""
            },
            "colorscale": [
             [
              0,
              "#0d0887"
             ],
             [
              0.1111111111111111,
              "#46039f"
             ],
             [
              0.2222222222222222,
              "#7201a8"
             ],
             [
              0.3333333333333333,
              "#9c179e"
             ],
             [
              0.4444444444444444,
              "#bd3786"
             ],
             [
              0.5555555555555556,
              "#d8576b"
             ],
             [
              0.6666666666666666,
              "#ed7953"
             ],
             [
              0.7777777777777778,
              "#fb9f3a"
             ],
             [
              0.8888888888888888,
              "#fdca26"
             ],
             [
              1,
              "#f0f921"
             ]
            ],
            "type": "heatmapgl"
           }
          ],
          "histogram": [
           {
            "marker": {
             "pattern": {
              "fillmode": "overlay",
              "size": 10,
              "solidity": 0.2
             }
            },
            "type": "histogram"
           }
          ],
          "histogram2d": [
           {
            "colorbar": {
             "outlinewidth": 0,
             "ticks": ""
            },
            "colorscale": [
             [
              0,
              "#0d0887"
             ],
             [
              0.1111111111111111,
              "#46039f"
             ],
             [
              0.2222222222222222,
              "#7201a8"
             ],
             [
              0.3333333333333333,
              "#9c179e"
             ],
             [
              0.4444444444444444,
              "#bd3786"
             ],
             [
              0.5555555555555556,
              "#d8576b"
             ],
             [
              0.6666666666666666,
              "#ed7953"
             ],
             [
              0.7777777777777778,
              "#fb9f3a"
             ],
             [
              0.8888888888888888,
              "#fdca26"
             ],
             [
              1,
              "#f0f921"
             ]
            ],
            "type": "histogram2d"
           }
          ],
          "histogram2dcontour": [
           {
            "colorbar": {
             "outlinewidth": 0,
             "ticks": ""
            },
            "colorscale": [
             [
              0,
              "#0d0887"
             ],
             [
              0.1111111111111111,
              "#46039f"
             ],
             [
              0.2222222222222222,
              "#7201a8"
             ],
             [
              0.3333333333333333,
              "#9c179e"
             ],
             [
              0.4444444444444444,
              "#bd3786"
             ],
             [
              0.5555555555555556,
              "#d8576b"
             ],
             [
              0.6666666666666666,
              "#ed7953"
             ],
             [
              0.7777777777777778,
              "#fb9f3a"
             ],
             [
              0.8888888888888888,
              "#fdca26"
             ],
             [
              1,
              "#f0f921"
             ]
            ],
            "type": "histogram2dcontour"
           }
          ],
          "mesh3d": [
           {
            "colorbar": {
             "outlinewidth": 0,
             "ticks": ""
            },
            "type": "mesh3d"
           }
          ],
          "parcoords": [
           {
            "line": {
             "colorbar": {
              "outlinewidth": 0,
              "ticks": ""
             }
            },
            "type": "parcoords"
           }
          ],
          "pie": [
           {
            "automargin": true,
            "type": "pie"
           }
          ],
          "scatter": [
           {
            "marker": {
             "colorbar": {
              "outlinewidth": 0,
              "ticks": ""
             }
            },
            "type": "scatter"
           }
          ],
          "scatter3d": [
           {
            "line": {
             "colorbar": {
              "outlinewidth": 0,
              "ticks": ""
             }
            },
            "marker": {
             "colorbar": {
              "outlinewidth": 0,
              "ticks": ""
             }
            },
            "type": "scatter3d"
           }
          ],
          "scattercarpet": [
           {
            "marker": {
             "colorbar": {
              "outlinewidth": 0,
              "ticks": ""
             }
            },
            "type": "scattercarpet"
           }
          ],
          "scattergeo": [
           {
            "marker": {
             "colorbar": {
              "outlinewidth": 0,
              "ticks": ""
             }
            },
            "type": "scattergeo"
           }
          ],
          "scattergl": [
           {
            "marker": {
             "colorbar": {
              "outlinewidth": 0,
              "ticks": ""
             }
            },
            "type": "scattergl"
           }
          ],
          "scattermapbox": [
           {
            "marker": {
             "colorbar": {
              "outlinewidth": 0,
              "ticks": ""
             }
            },
            "type": "scattermapbox"
           }
          ],
          "scatterpolar": [
           {
            "marker": {
             "colorbar": {
              "outlinewidth": 0,
              "ticks": ""
             }
            },
            "type": "scatterpolar"
           }
          ],
          "scatterpolargl": [
           {
            "marker": {
             "colorbar": {
              "outlinewidth": 0,
              "ticks": ""
             }
            },
            "type": "scatterpolargl"
           }
          ],
          "scatterternary": [
           {
            "marker": {
             "colorbar": {
              "outlinewidth": 0,
              "ticks": ""
             }
            },
            "type": "scatterternary"
           }
          ],
          "surface": [
           {
            "colorbar": {
             "outlinewidth": 0,
             "ticks": ""
            },
            "colorscale": [
             [
              0,
              "#0d0887"
             ],
             [
              0.1111111111111111,
              "#46039f"
             ],
             [
              0.2222222222222222,
              "#7201a8"
             ],
             [
              0.3333333333333333,
              "#9c179e"
             ],
             [
              0.4444444444444444,
              "#bd3786"
             ],
             [
              0.5555555555555556,
              "#d8576b"
             ],
             [
              0.6666666666666666,
              "#ed7953"
             ],
             [
              0.7777777777777778,
              "#fb9f3a"
             ],
             [
              0.8888888888888888,
              "#fdca26"
             ],
             [
              1,
              "#f0f921"
             ]
            ],
            "type": "surface"
           }
          ],
          "table": [
           {
            "cells": {
             "fill": {
              "color": "#EBF0F8"
             },
             "line": {
              "color": "white"
             }
            },
            "header": {
             "fill": {
              "color": "#C8D4E3"
             },
             "line": {
              "color": "white"
             }
            },
            "type": "table"
           }
          ]
         },
         "layout": {
          "annotationdefaults": {
           "arrowcolor": "#2a3f5f",
           "arrowhead": 0,
           "arrowwidth": 1
          },
          "autotypenumbers": "strict",
          "coloraxis": {
           "colorbar": {
            "outlinewidth": 0,
            "ticks": ""
           }
          },
          "colorscale": {
           "diverging": [
            [
             0,
             "#8e0152"
            ],
            [
             0.1,
             "#c51b7d"
            ],
            [
             0.2,
             "#de77ae"
            ],
            [
             0.3,
             "#f1b6da"
            ],
            [
             0.4,
             "#fde0ef"
            ],
            [
             0.5,
             "#f7f7f7"
            ],
            [
             0.6,
             "#e6f5d0"
            ],
            [
             0.7,
             "#b8e186"
            ],
            [
             0.8,
             "#7fbc41"
            ],
            [
             0.9,
             "#4d9221"
            ],
            [
             1,
             "#276419"
            ]
           ],
           "sequential": [
            [
             0,
             "#0d0887"
            ],
            [
             0.1111111111111111,
             "#46039f"
            ],
            [
             0.2222222222222222,
             "#7201a8"
            ],
            [
             0.3333333333333333,
             "#9c179e"
            ],
            [
             0.4444444444444444,
             "#bd3786"
            ],
            [
             0.5555555555555556,
             "#d8576b"
            ],
            [
             0.6666666666666666,
             "#ed7953"
            ],
            [
             0.7777777777777778,
             "#fb9f3a"
            ],
            [
             0.8888888888888888,
             "#fdca26"
            ],
            [
             1,
             "#f0f921"
            ]
           ],
           "sequentialminus": [
            [
             0,
             "#0d0887"
            ],
            [
             0.1111111111111111,
             "#46039f"
            ],
            [
             0.2222222222222222,
             "#7201a8"
            ],
            [
             0.3333333333333333,
             "#9c179e"
            ],
            [
             0.4444444444444444,
             "#bd3786"
            ],
            [
             0.5555555555555556,
             "#d8576b"
            ],
            [
             0.6666666666666666,
             "#ed7953"
            ],
            [
             0.7777777777777778,
             "#fb9f3a"
            ],
            [
             0.8888888888888888,
             "#fdca26"
            ],
            [
             1,
             "#f0f921"
            ]
           ]
          },
          "colorway": [
           "#636efa",
           "#EF553B",
           "#00cc96",
           "#ab63fa",
           "#FFA15A",
           "#19d3f3",
           "#FF6692",
           "#B6E880",
           "#FF97FF",
           "#FECB52"
          ],
          "font": {
           "color": "#2a3f5f"
          },
          "geo": {
           "bgcolor": "white",
           "lakecolor": "white",
           "landcolor": "#E5ECF6",
           "showlakes": true,
           "showland": true,
           "subunitcolor": "white"
          },
          "hoverlabel": {
           "align": "left"
          },
          "hovermode": "closest",
          "mapbox": {
           "style": "light"
          },
          "paper_bgcolor": "white",
          "plot_bgcolor": "#E5ECF6",
          "polar": {
           "angularaxis": {
            "gridcolor": "white",
            "linecolor": "white",
            "ticks": ""
           },
           "bgcolor": "#E5ECF6",
           "radialaxis": {
            "gridcolor": "white",
            "linecolor": "white",
            "ticks": ""
           }
          },
          "scene": {
           "xaxis": {
            "backgroundcolor": "#E5ECF6",
            "gridcolor": "white",
            "gridwidth": 2,
            "linecolor": "white",
            "showbackground": true,
            "ticks": "",
            "zerolinecolor": "white"
           },
           "yaxis": {
            "backgroundcolor": "#E5ECF6",
            "gridcolor": "white",
            "gridwidth": 2,
            "linecolor": "white",
            "showbackground": true,
            "ticks": "",
            "zerolinecolor": "white"
           },
           "zaxis": {
            "backgroundcolor": "#E5ECF6",
            "gridcolor": "white",
            "gridwidth": 2,
            "linecolor": "white",
            "showbackground": true,
            "ticks": "",
            "zerolinecolor": "white"
           }
          },
          "shapedefaults": {
           "line": {
            "color": "#2a3f5f"
           }
          },
          "ternary": {
           "aaxis": {
            "gridcolor": "white",
            "linecolor": "white",
            "ticks": ""
           },
           "baxis": {
            "gridcolor": "white",
            "linecolor": "white",
            "ticks": ""
           },
           "bgcolor": "#E5ECF6",
           "caxis": {
            "gridcolor": "white",
            "linecolor": "white",
            "ticks": ""
           }
          },
          "title": {
           "x": 0.05
          },
          "xaxis": {
           "automargin": true,
           "gridcolor": "white",
           "linecolor": "white",
           "ticks": "",
           "title": {
            "standoff": 15
           },
           "zerolinecolor": "white",
           "zerolinewidth": 2
          },
          "yaxis": {
           "automargin": true,
           "gridcolor": "white",
           "linecolor": "white",
           "ticks": "",
           "title": {
            "standoff": 15
           },
           "zerolinecolor": "white",
           "zerolinewidth": 2
          }
         }
        },
        "title": {
         "text": "Customers by gender"
        }
       }
      }
     },
     "metadata": {},
     "output_type": "display_data"
    }
   ],
   "source": [
    "#gender piechart\n",
    "pie=df.groupby('GENRE').size().to_frame('count').reset_index()\n",
    "colors=['pink','lightblue']\n",
    "fig1= px.pie(pie, values='count', names='GENRE', title='Customers by gender',color_discrete_map={\n",
    "                                'M':'royalblue',\n",
    "                                 'F':'pink'},color='GENRE')\n",
    "fig1.update_traces(hoverinfo = 'label+percent', textfont_size = 12,\n",
    "                  textinfo = 'label+percent', pull = [ 0.1])\n",
    "fig1.show()\n",
    "# This is an interactive graph, if you click on the points in the legend you can remove or add the groups"
   ]
  },
  {
   "cell_type": "code",
   "execution_count": 5,
   "metadata": {},
   "outputs": [
    {
     "data": {
      "application/vnd.plotly.v1+json": {
       "config": {
        "plotlyServerURL": "https://plot.ly"
       },
       "data": [
        {
         "customdata": [
          [
           "BAD PAYER"
          ],
          [
           "GOOD PAYER"
          ],
          [
           "LATECOMER"
          ]
         ],
         "domain": {
          "x": [
           0,
           1
          ],
          "y": [
           0,
           1
          ]
         },
         "hoverinfo": "label+percent",
         "hovertemplate": "BEHAVIOUR_SCORE=%{customdata[0]}<br>Somma=%{value}<extra></extra>",
         "labels": [
          "BAD PAYER",
          "GOOD PAYER",
          "LATECOMER"
         ],
         "legendgroup": "",
         "marker": {
          "colors": [
           "red",
           "green",
           "orange"
          ]
         },
         "name": "",
         "pull": [
          0.05,
          0.05,
          0.05
         ],
         "showlegend": true,
         "textfont": {
          "size": 12
         },
         "textinfo": "label+percent",
         "type": "pie",
         "values": [
          3503,
          45926,
          11149
         ]
        }
       ],
       "layout": {
        "legend": {
         "tracegroupgap": 0
        },
        "template": {
         "data": {
          "bar": [
           {
            "error_x": {
             "color": "#2a3f5f"
            },
            "error_y": {
             "color": "#2a3f5f"
            },
            "marker": {
             "line": {
              "color": "#E5ECF6",
              "width": 0.5
             },
             "pattern": {
              "fillmode": "overlay",
              "size": 10,
              "solidity": 0.2
             }
            },
            "type": "bar"
           }
          ],
          "barpolar": [
           {
            "marker": {
             "line": {
              "color": "#E5ECF6",
              "width": 0.5
             },
             "pattern": {
              "fillmode": "overlay",
              "size": 10,
              "solidity": 0.2
             }
            },
            "type": "barpolar"
           }
          ],
          "carpet": [
           {
            "aaxis": {
             "endlinecolor": "#2a3f5f",
             "gridcolor": "white",
             "linecolor": "white",
             "minorgridcolor": "white",
             "startlinecolor": "#2a3f5f"
            },
            "baxis": {
             "endlinecolor": "#2a3f5f",
             "gridcolor": "white",
             "linecolor": "white",
             "minorgridcolor": "white",
             "startlinecolor": "#2a3f5f"
            },
            "type": "carpet"
           }
          ],
          "choropleth": [
           {
            "colorbar": {
             "outlinewidth": 0,
             "ticks": ""
            },
            "type": "choropleth"
           }
          ],
          "contour": [
           {
            "colorbar": {
             "outlinewidth": 0,
             "ticks": ""
            },
            "colorscale": [
             [
              0,
              "#0d0887"
             ],
             [
              0.1111111111111111,
              "#46039f"
             ],
             [
              0.2222222222222222,
              "#7201a8"
             ],
             [
              0.3333333333333333,
              "#9c179e"
             ],
             [
              0.4444444444444444,
              "#bd3786"
             ],
             [
              0.5555555555555556,
              "#d8576b"
             ],
             [
              0.6666666666666666,
              "#ed7953"
             ],
             [
              0.7777777777777778,
              "#fb9f3a"
             ],
             [
              0.8888888888888888,
              "#fdca26"
             ],
             [
              1,
              "#f0f921"
             ]
            ],
            "type": "contour"
           }
          ],
          "contourcarpet": [
           {
            "colorbar": {
             "outlinewidth": 0,
             "ticks": ""
            },
            "type": "contourcarpet"
           }
          ],
          "heatmap": [
           {
            "colorbar": {
             "outlinewidth": 0,
             "ticks": ""
            },
            "colorscale": [
             [
              0,
              "#0d0887"
             ],
             [
              0.1111111111111111,
              "#46039f"
             ],
             [
              0.2222222222222222,
              "#7201a8"
             ],
             [
              0.3333333333333333,
              "#9c179e"
             ],
             [
              0.4444444444444444,
              "#bd3786"
             ],
             [
              0.5555555555555556,
              "#d8576b"
             ],
             [
              0.6666666666666666,
              "#ed7953"
             ],
             [
              0.7777777777777778,
              "#fb9f3a"
             ],
             [
              0.8888888888888888,
              "#fdca26"
             ],
             [
              1,
              "#f0f921"
             ]
            ],
            "type": "heatmap"
           }
          ],
          "heatmapgl": [
           {
            "colorbar": {
             "outlinewidth": 0,
             "ticks": ""
            },
            "colorscale": [
             [
              0,
              "#0d0887"
             ],
             [
              0.1111111111111111,
              "#46039f"
             ],
             [
              0.2222222222222222,
              "#7201a8"
             ],
             [
              0.3333333333333333,
              "#9c179e"
             ],
             [
              0.4444444444444444,
              "#bd3786"
             ],
             [
              0.5555555555555556,
              "#d8576b"
             ],
             [
              0.6666666666666666,
              "#ed7953"
             ],
             [
              0.7777777777777778,
              "#fb9f3a"
             ],
             [
              0.8888888888888888,
              "#fdca26"
             ],
             [
              1,
              "#f0f921"
             ]
            ],
            "type": "heatmapgl"
           }
          ],
          "histogram": [
           {
            "marker": {
             "pattern": {
              "fillmode": "overlay",
              "size": 10,
              "solidity": 0.2
             }
            },
            "type": "histogram"
           }
          ],
          "histogram2d": [
           {
            "colorbar": {
             "outlinewidth": 0,
             "ticks": ""
            },
            "colorscale": [
             [
              0,
              "#0d0887"
             ],
             [
              0.1111111111111111,
              "#46039f"
             ],
             [
              0.2222222222222222,
              "#7201a8"
             ],
             [
              0.3333333333333333,
              "#9c179e"
             ],
             [
              0.4444444444444444,
              "#bd3786"
             ],
             [
              0.5555555555555556,
              "#d8576b"
             ],
             [
              0.6666666666666666,
              "#ed7953"
             ],
             [
              0.7777777777777778,
              "#fb9f3a"
             ],
             [
              0.8888888888888888,
              "#fdca26"
             ],
             [
              1,
              "#f0f921"
             ]
            ],
            "type": "histogram2d"
           }
          ],
          "histogram2dcontour": [
           {
            "colorbar": {
             "outlinewidth": 0,
             "ticks": ""
            },
            "colorscale": [
             [
              0,
              "#0d0887"
             ],
             [
              0.1111111111111111,
              "#46039f"
             ],
             [
              0.2222222222222222,
              "#7201a8"
             ],
             [
              0.3333333333333333,
              "#9c179e"
             ],
             [
              0.4444444444444444,
              "#bd3786"
             ],
             [
              0.5555555555555556,
              "#d8576b"
             ],
             [
              0.6666666666666666,
              "#ed7953"
             ],
             [
              0.7777777777777778,
              "#fb9f3a"
             ],
             [
              0.8888888888888888,
              "#fdca26"
             ],
             [
              1,
              "#f0f921"
             ]
            ],
            "type": "histogram2dcontour"
           }
          ],
          "mesh3d": [
           {
            "colorbar": {
             "outlinewidth": 0,
             "ticks": ""
            },
            "type": "mesh3d"
           }
          ],
          "parcoords": [
           {
            "line": {
             "colorbar": {
              "outlinewidth": 0,
              "ticks": ""
             }
            },
            "type": "parcoords"
           }
          ],
          "pie": [
           {
            "automargin": true,
            "type": "pie"
           }
          ],
          "scatter": [
           {
            "marker": {
             "colorbar": {
              "outlinewidth": 0,
              "ticks": ""
             }
            },
            "type": "scatter"
           }
          ],
          "scatter3d": [
           {
            "line": {
             "colorbar": {
              "outlinewidth": 0,
              "ticks": ""
             }
            },
            "marker": {
             "colorbar": {
              "outlinewidth": 0,
              "ticks": ""
             }
            },
            "type": "scatter3d"
           }
          ],
          "scattercarpet": [
           {
            "marker": {
             "colorbar": {
              "outlinewidth": 0,
              "ticks": ""
             }
            },
            "type": "scattercarpet"
           }
          ],
          "scattergeo": [
           {
            "marker": {
             "colorbar": {
              "outlinewidth": 0,
              "ticks": ""
             }
            },
            "type": "scattergeo"
           }
          ],
          "scattergl": [
           {
            "marker": {
             "colorbar": {
              "outlinewidth": 0,
              "ticks": ""
             }
            },
            "type": "scattergl"
           }
          ],
          "scattermapbox": [
           {
            "marker": {
             "colorbar": {
              "outlinewidth": 0,
              "ticks": ""
             }
            },
            "type": "scattermapbox"
           }
          ],
          "scatterpolar": [
           {
            "marker": {
             "colorbar": {
              "outlinewidth": 0,
              "ticks": ""
             }
            },
            "type": "scatterpolar"
           }
          ],
          "scatterpolargl": [
           {
            "marker": {
             "colorbar": {
              "outlinewidth": 0,
              "ticks": ""
             }
            },
            "type": "scatterpolargl"
           }
          ],
          "scatterternary": [
           {
            "marker": {
             "colorbar": {
              "outlinewidth": 0,
              "ticks": ""
             }
            },
            "type": "scatterternary"
           }
          ],
          "surface": [
           {
            "colorbar": {
             "outlinewidth": 0,
             "ticks": ""
            },
            "colorscale": [
             [
              0,
              "#0d0887"
             ],
             [
              0.1111111111111111,
              "#46039f"
             ],
             [
              0.2222222222222222,
              "#7201a8"
             ],
             [
              0.3333333333333333,
              "#9c179e"
             ],
             [
              0.4444444444444444,
              "#bd3786"
             ],
             [
              0.5555555555555556,
              "#d8576b"
             ],
             [
              0.6666666666666666,
              "#ed7953"
             ],
             [
              0.7777777777777778,
              "#fb9f3a"
             ],
             [
              0.8888888888888888,
              "#fdca26"
             ],
             [
              1,
              "#f0f921"
             ]
            ],
            "type": "surface"
           }
          ],
          "table": [
           {
            "cells": {
             "fill": {
              "color": "#EBF0F8"
             },
             "line": {
              "color": "white"
             }
            },
            "header": {
             "fill": {
              "color": "#C8D4E3"
             },
             "line": {
              "color": "white"
             }
            },
            "type": "table"
           }
          ]
         },
         "layout": {
          "annotationdefaults": {
           "arrowcolor": "#2a3f5f",
           "arrowhead": 0,
           "arrowwidth": 1
          },
          "autotypenumbers": "strict",
          "coloraxis": {
           "colorbar": {
            "outlinewidth": 0,
            "ticks": ""
           }
          },
          "colorscale": {
           "diverging": [
            [
             0,
             "#8e0152"
            ],
            [
             0.1,
             "#c51b7d"
            ],
            [
             0.2,
             "#de77ae"
            ],
            [
             0.3,
             "#f1b6da"
            ],
            [
             0.4,
             "#fde0ef"
            ],
            [
             0.5,
             "#f7f7f7"
            ],
            [
             0.6,
             "#e6f5d0"
            ],
            [
             0.7,
             "#b8e186"
            ],
            [
             0.8,
             "#7fbc41"
            ],
            [
             0.9,
             "#4d9221"
            ],
            [
             1,
             "#276419"
            ]
           ],
           "sequential": [
            [
             0,
             "#0d0887"
            ],
            [
             0.1111111111111111,
             "#46039f"
            ],
            [
             0.2222222222222222,
             "#7201a8"
            ],
            [
             0.3333333333333333,
             "#9c179e"
            ],
            [
             0.4444444444444444,
             "#bd3786"
            ],
            [
             0.5555555555555556,
             "#d8576b"
            ],
            [
             0.6666666666666666,
             "#ed7953"
            ],
            [
             0.7777777777777778,
             "#fb9f3a"
            ],
            [
             0.8888888888888888,
             "#fdca26"
            ],
            [
             1,
             "#f0f921"
            ]
           ],
           "sequentialminus": [
            [
             0,
             "#0d0887"
            ],
            [
             0.1111111111111111,
             "#46039f"
            ],
            [
             0.2222222222222222,
             "#7201a8"
            ],
            [
             0.3333333333333333,
             "#9c179e"
            ],
            [
             0.4444444444444444,
             "#bd3786"
            ],
            [
             0.5555555555555556,
             "#d8576b"
            ],
            [
             0.6666666666666666,
             "#ed7953"
            ],
            [
             0.7777777777777778,
             "#fb9f3a"
            ],
            [
             0.8888888888888888,
             "#fdca26"
            ],
            [
             1,
             "#f0f921"
            ]
           ]
          },
          "colorway": [
           "#636efa",
           "#EF553B",
           "#00cc96",
           "#ab63fa",
           "#FFA15A",
           "#19d3f3",
           "#FF6692",
           "#B6E880",
           "#FF97FF",
           "#FECB52"
          ],
          "font": {
           "color": "#2a3f5f"
          },
          "geo": {
           "bgcolor": "white",
           "lakecolor": "white",
           "landcolor": "#E5ECF6",
           "showlakes": true,
           "showland": true,
           "subunitcolor": "white"
          },
          "hoverlabel": {
           "align": "left"
          },
          "hovermode": "closest",
          "mapbox": {
           "style": "light"
          },
          "paper_bgcolor": "white",
          "plot_bgcolor": "#E5ECF6",
          "polar": {
           "angularaxis": {
            "gridcolor": "white",
            "linecolor": "white",
            "ticks": ""
           },
           "bgcolor": "#E5ECF6",
           "radialaxis": {
            "gridcolor": "white",
            "linecolor": "white",
            "ticks": ""
           }
          },
          "scene": {
           "xaxis": {
            "backgroundcolor": "#E5ECF6",
            "gridcolor": "white",
            "gridwidth": 2,
            "linecolor": "white",
            "showbackground": true,
            "ticks": "",
            "zerolinecolor": "white"
           },
           "yaxis": {
            "backgroundcolor": "#E5ECF6",
            "gridcolor": "white",
            "gridwidth": 2,
            "linecolor": "white",
            "showbackground": true,
            "ticks": "",
            "zerolinecolor": "white"
           },
           "zaxis": {
            "backgroundcolor": "#E5ECF6",
            "gridcolor": "white",
            "gridwidth": 2,
            "linecolor": "white",
            "showbackground": true,
            "ticks": "",
            "zerolinecolor": "white"
           }
          },
          "shapedefaults": {
           "line": {
            "color": "#2a3f5f"
           }
          },
          "ternary": {
           "aaxis": {
            "gridcolor": "white",
            "linecolor": "white",
            "ticks": ""
           },
           "baxis": {
            "gridcolor": "white",
            "linecolor": "white",
            "ticks": ""
           },
           "bgcolor": "#E5ECF6",
           "caxis": {
            "gridcolor": "white",
            "linecolor": "white",
            "ticks": ""
           }
          },
          "title": {
           "x": 0.05
          },
          "xaxis": {
           "automargin": true,
           "gridcolor": "white",
           "linecolor": "white",
           "ticks": "",
           "title": {
            "standoff": 15
           },
           "zerolinecolor": "white",
           "zerolinewidth": 2
          },
          "yaxis": {
           "automargin": true,
           "gridcolor": "white",
           "linecolor": "white",
           "ticks": "",
           "title": {
            "standoff": 15
           },
           "zerolinecolor": "white",
           "zerolinewidth": 2
          }
         }
        },
        "title": {
         "text": "Customers' behaviour score"
        }
       }
      }
     },
     "metadata": {},
     "output_type": "display_data"
    }
   ],
   "source": [
    "#behaviour score piechart\n",
    "piebehaviour=df.groupby('BEHAVIOUR_SCORE').size().to_frame('Somma').reset_index()\n",
    "fig1= px.pie(piebehaviour, values='Somma', names='BEHAVIOUR_SCORE', title=\"Customers' behaviour score\",color_discrete_map={\n",
    "                                'BAD PAYER':'red',\n",
    "                                 'GOOD PAYER':'green',\n",
    "                                 'LATECOMER':'orange'},color='BEHAVIOUR_SCORE')\n",
    "fig1.update_traces(hoverinfo = 'label+percent', textfont_size = 12,\n",
    "                  textinfo = 'label+percent', pull = [0.05, 0.05, 0.05])\n",
    "fig1.show()\n",
    "# This is an interactive graph,if you click on the points in the legend you can remove or add the groups"
   ]
  },
  {
   "cell_type": "markdown",
   "metadata": {},
   "source": [
    "### Data Preprocessing and Feature engineering\n",
    "\n",
    "In this section we performed some data preprocessing steps, modifying or deleting some variables.\\\n",
    "At first, we kept only the rows corresponding to customers that give privacy consensus for marketing purposes and deleted all the rows that had a 'NO' in that column.\\\n",
    "Then, in some columns, we needed to translate the strings to English, since they had instances in both Italian and English.\\\n",
    "A few other variables, like 'BEHAVIOUR_SCORE' and 'GENRE', were trasformed from categorical to dummy or ordinal numeric variables.\\\n",
    "We started to delete some variables for many different reasons:most of the istances had null values, others had as unique value 0, and others were simply repetitive or completely irrelevant for our analysis.\n",
    "\n",
    "Our aim is that of identifying the propensity of customers to buy one of the proposed solution, and the column 'SOLUTION' indicates if they already accepted one of them once, so it will be the target of our analysis.\n",
    "\n",
    "At the end of this section we performed the first partition in the dataset according to the column 'COMMODITY', that we used to divide the costumers according to the service that will be offered to them, namely 'CROSS' or 'DUAL'."
   ]
  },
  {
   "cell_type": "code",
   "execution_count": 36,
   "metadata": {},
   "outputs": [],
   "source": [
    "#Eliminating all the clients which did not give privacy consensus for marketing purposes from the dataframe \n",
    "dfc=df.copy()\n",
    "def privacy_consensus(df):\n",
    "    labels=[]\n",
    "    for el in range(0,len(df.iloc[:,0])):\n",
    "        if df.iloc[el,2]=='NO':\n",
    "            labels.append(el)\n",
    "    df.drop(labels, axis=0, inplace=True)\n",
    "    df\n",
    "privacy_consensus(dfc)\n"
   ]
  },
  {
   "cell_type": "code",
   "execution_count": 7,
   "metadata": {},
   "outputs": [
    {
     "name": "stdout",
     "output_type": "stream",
     "text": [
      "LAST_POWER_PRODUCT           0.988908\n",
      "DATE_LAST_VISIT_DESK         0.873771\n",
      "DATE_LAST_REQUEST_CC         0.379008\n",
      "LAST_GAS_PRODUCT             0.000344\n",
      "CONSENSUS_PRIVACY            0.000046\n",
      "AVG_CONSUMPTION_GAS_M3       0.000046\n",
      "AVG_CONSUMPTION_POWER_KWH    0.000046\n",
      "ZONE                         0.000046\n",
      "AREA                         0.000046\n",
      "N_CAMPAIGN_CLICKED           0.000000\n",
      "dtype: float64\n"
     ]
    }
   ],
   "source": [
    "#Checking null values\n",
    "MVpercentages = (dfc.isnull().sum()/dfc.shape[0]).sort_values(ascending=False)\n",
    "print(MVpercentages.head(10))"
   ]
  },
  {
   "cell_type": "code",
   "execution_count": 8,
   "metadata": {},
   "outputs": [],
   "source": [
    "dfc['LAST_CAMPAIGN_TIPOLOGY'] = dfc['LAST_CAMPAIGN_TIPOLOGY'].str.replace('Comunicazione', 'Communication')\n",
    "dfc['LAST_CAMPAIGN_TIPOLOGY'] = dfc['LAST_CAMPAIGN_TIPOLOGY'].str.replace('Rinnovo', 'Renewal')\n",
    "#dfc['N_SMS_RENEWAL'].unique()\n",
    "#dfc['N_TLS_RENEWAL'].unique()\n",
    "#dfc['NEW_CUSTOMER'].unique()\n",
    "#All this variables have as unique value 0 so are useless \n",
    "dfc['BEHAVIOUR_SCORE']=dfc['BEHAVIOUR_SCORE'].str.replace('GOOD PAYER','2')\n",
    "dfc['BEHAVIOUR_SCORE']=dfc['BEHAVIOUR_SCORE'].str.replace('LATECOMER','1')\n",
    "dfc['BEHAVIOUR_SCORE']=dfc['BEHAVIOUR_SCORE'].str.replace('BAD PAYER','0')\n",
    "dfc['BEHAVIOUR_SCORE']=dfc['BEHAVIOUR_SCORE'].astype(int)\n"
   ]
  },
  {
   "cell_type": "code",
   "execution_count": 9,
   "metadata": {},
   "outputs": [],
   "source": [
    "le=preprocessing.LabelEncoder()\n",
    "dfc=pd.get_dummies(dfc, columns=[\"CLC_STATUS\"])\n",
    "dfc['GENRE'] = le.fit_transform(dfc['GENRE'])\n",
    "#ZONE Deleted since it has the same relevance of the column AREA\n",
    "#deleting some repetitive or irrelevant columns \n",
    "dfc = dfc.drop(['LAST_MONTH_DESK_VISITS','LAST_3MONTHS_DESK_VISITS', 'CONSENSUS_PRIVACY', 'LAST_MONTH_CC_REQUESTS', 'LAST_3MONTHS_CC_REQUESTS', 'INBOUND_CONTACTS_LAST_2MONTHS', 'INBOUND_CONTACTS_LAST_MONTH', 'LAST_POWER_PRODUCT', 'DATE_LAST_VISIT_DESK', 'N_RISK_CASES_CHURN_GAS', 'N_RISK_CASES_CHURN_POWER', 'DATE_LAST_REQUEST_CC','N_TLS_RENEWAL','N_SMS_RENEWAL','NEW_CUSTOMER','SUPPLY_START_DATE','DATE_LAST_CAMPAIGN','FIRST_ACTIVATION_DATE','ZONE','N_DISUSED_GAS_POINTS','N_DISUSED_POWER_POINTS','N_TERMINATED_GAS_PER_SWITCH','N_TERMINATED_POWER_PER_SWITCH','N_TERMINATED_GAS_PER_VOLTURA','N_TERMINATED_POWER_PER_VOLTURA','WEB_PORTAL_REGISTRATION'], axis=1)"
   ]
  },
  {
   "cell_type": "code",
   "execution_count": 10,
   "metadata": {},
   "outputs": [
    {
     "data": {
      "text/plain": [
       "0    43536\n",
       "1       99\n",
       "Name: SOLUTIONS, dtype: int64"
      ]
     },
     "execution_count": 10,
     "metadata": {},
     "output_type": "execute_result"
    }
   ],
   "source": [
    "dfc['SOLUTIONS'].value_counts()\n",
    "#Most of the customers didn't buy a solution the last time "
   ]
  },
  {
   "cell_type": "code",
   "execution_count": 11,
   "metadata": {},
   "outputs": [],
   "source": [
    "#Initial dataframe split between customers according to the product they have already purchased\n",
    "df_dual = dfc[dfc['COMMODITY']=='DUAL'] #Customers who have both the commodities (Dual Customers)\n",
    "df_cross =dfc.loc[dfc['COMMODITY'].isin(['GAS','POWER'])] #Customers who have only one of the two commodities (Cross Customers)"
   ]
  },
  {
   "cell_type": "markdown",
   "metadata": {},
   "source": [
    "## Propensity modeling"
   ]
  },
  {
   "cell_type": "markdown",
   "metadata": {},
   "source": [
    "In this section we built some Propensity models with different algorithms in order to identify the likelihood of the customers to accept or not the proposed solution when contacted.\\\n",
    "These models have as target the prediction of the column 'SOLUTION' and provide as output a propensity score, which is a probabilistic estimation of how likely a column is 1.\n",
    "\n",
    "We started by plotting a correlation matrix and displaying the most correlated features with the target 'SOLUTION'. However,it looked like the column 'SOLUTIONS' didn't have a significant correlation with any other variable. For this reason, we proceeded by selecting manually and logically the variables used to train the model.\n",
    "\n",
    "For each of the two gruop of customers (those 43166 who wil receive a cross-selling offer and those 469 who will receive a solution offer), we have tested four algorithms for the propensity models:\n",
    "- A logistic regression with scaled data\n",
    "- A logistic regression with non scaled data\n",
    "- A neural network for binary classification with scaled data\n",
    "- A neural network for binary classification with non scaled data\n",
    "\n",
    "As espected, the neural network produced an higher accuracy, but the result produced were overfitting the data.Therefore the propensity scores outputted by the model were all equal or really close to 0. For our purpose, the best model in both cases is the one trained with the logistic regression without scaling the data, since it had an acceptable accuracy (around 0.8 for cross and 0.93 for dual) and produced a wider range of propensity scores, that will allow us to divide the customers in groups.\\\n",
    "In the code below the chosen model is the uncommented one, and the propensity scores produced are visualized in the two histograms."
   ]
  },
  {
   "cell_type": "code",
   "execution_count": 12,
   "metadata": {},
   "outputs": [
    {
     "data": {
      "image/png": "[encoded data removed]",
      "text/plain": [
       "<Figure size 1152x1008 with 2 Axes>"
      ]
     },
     "metadata": {
      "needs_background": "light"
     },
     "output_type": "display_data"
    }
   ],
   "source": [
    "corr=dfc.corr()\n",
    "plt.figure(figsize=(16, 14))\n",
    "cmap=sns.diverging_palette(10,260)\n",
    "sns.heatmap(corr, vmax=0.5, center=0,square=True, linewidths=2, cmap=cmap)\n",
    "plt.show()\n",
    "#Correlation matrix to choose the most relevant attributes for our propensity models but it looks like the column 'SOLUTIONS' doesn't really have a correlation with any other variable \n",
    "#We will select the variables by hand "
   ]
  },
  {
   "cell_type": "code",
   "execution_count": 13,
   "metadata": {},
   "outputs": [
    {
     "data": {
      "text/plain": [
       "SOLUTIONS                        1.000000\n",
       "N_POWER_POINTS                   0.120660\n",
       "AVG_CONSUMPTION_POWER_KWH        0.115156\n",
       "INBOUND_CONTACTS_LAST_YEAR       0.098218\n",
       "CLC_STATUS_3-Customer Loyalty    0.079220\n",
       "N_SMS_CARING                     0.078594\n",
       "LAST_YEAR_CC_REQUESTS            0.077651\n",
       "LAST_YEAR_DESK_VISITS            0.071520\n",
       "N_SMS_CROSS_SELLING              0.069379\n",
       "N_TLS_CARING                     0.056881\n",
       "dtype: float64"
      ]
     },
     "execution_count": 13,
     "metadata": {},
     "output_type": "execute_result"
    }
   ],
   "source": [
    "dfc.corrwith(dfc[\"SOLUTIONS\"]).sort_values(ascending=False).head(10)\n",
    "#not significant correlations"
   ]
  },
  {
   "cell_type": "markdown",
   "metadata": {},
   "source": [
    "### CROSS-SELLING CUSTOMERS"
   ]
  },
  {
   "cell_type": "code",
   "execution_count": 14,
   "metadata": {},
   "outputs": [
    {
     "data": {
      "text/plain": [
       "0    43096\n",
       "1       70\n",
       "Name: SOLUTIONS, dtype: int64"
      ]
     },
     "execution_count": 14,
     "metadata": {},
     "output_type": "execute_result"
    }
   ],
   "source": [
    "df_cross['SOLUTIONS'].value_counts()"
   ]
  },
  {
   "cell_type": "code",
   "execution_count": 15,
   "metadata": {},
   "outputs": [],
   "source": [
    "#We drop the unnecessary columns from the independent variables set(they seem both uncorrelated and logically not interesting)\n",
    "X_cross=df_cross.drop(['SOLUTIONS','COMMODITY','AREA','PHONE_VALIDATED','EMAIL_VALIDATED','LAST_GAS_PRODUCT','LAST_CAMPAIGN_TIPOLOGY','ACQUISITION_CHANNEL','CUSTOMER_SENIORITY','AVG_CONSUMPTION_GAS_M3','AVG_CONSUMPTION_POWER_KWH'],axis=1)\n",
    "prop=df_cross.copy()\n",
    "target=prop['SOLUTIONS']\n",
    "predcross=prop[['BEHAVIOUR_SCORE','GENRE','N_DEM_CROSS_SELLING','N_TLS_CROSS_SELLING','N_SMS_CROSS_SELLING','N_CAMPAIGN_SENT','N_CAMPAIGN_CLICKED']] #Choosing the independent variables for our model\n",
    "scaler = StandardScaler() #Importing standard scaler to scale data\n",
    "scaled_data = scaler.fit_transform(predcross)"
   ]
  },
  {
   "cell_type": "markdown",
   "metadata": {},
   "source": [
    "##### Logistic Regression [Scaled data]"
   ]
  },
  {
   "cell_type": "code",
   "execution_count": 16,
   "metadata": {},
   "outputs": [],
   "source": [
    "# Propensity model for Cross-selling customers with scaled data \n",
    "# X_train, X_test, y_train, y_test  =   train_test_split(scaled_data, target, test_size=.4)\n",
    "# print( \"Predictor - Training : \", X_train.shape, \"Predictor - Testing : \", X_test.shape )\n",
    "# classifier=GaussianNB()\n",
    "# classifier=classifier.fit(X_train,y_train)\n",
    "# predictions=classifier.predict(X_test)\n",
    "# #Analyze accuracy of predictions\n",
    "# sklearn.metrics.confusion_matrix(y_test,predictions)\n",
    "# sklearn.metrics.accuracy_score(y_test, predictions)\n",
    "# df_cross['Propensity'] = classifier.predict_proba(predcross)[:,1].round(1)\n",
    "# df_cross['Propensity'].hist()\n",
    "#The spread of probabilites to buy is good but actually we can notice from the target variable the fact that only 70 customers out 43000! bought a solution so most of the probabilities values should be much less than 1"
   ]
  },
  {
   "cell_type": "markdown",
   "metadata": {},
   "source": [
    "##### Logistic Regression [Non scaled data]"
   ]
  },
  {
   "cell_type": "code",
   "execution_count": 17,
   "metadata": {},
   "outputs": [
    {
     "name": "stdout",
     "output_type": "stream",
     "text": [
      "Predictor - Training :  (25899, 7) Predictor - Testing :  (17267, 7)\n"
     ]
    },
    {
     "data": {
      "text/plain": [
       "0.7853130248450803"
      ]
     },
     "execution_count": 17,
     "metadata": {},
     "output_type": "execute_result"
    }
   ],
   "source": [
    "# Propensity model for Cross-selling customers with non-scaled data \n",
    "X_train, X_test, y_train, y_test  =   train_test_split(predcross, target, test_size=.4,random_state=23)\n",
    "print( \"Predictor - Training : \", X_train.shape, \"Predictor - Testing : \", X_test.shape )\n",
    "classifier=GaussianNB()\n",
    "classifier=classifier.fit(X_train,y_train)\n",
    "predictions=classifier.predict(X_test)\n",
    "#Analyze accuracy of predictions\n",
    "sklearn.metrics.confusion_matrix(y_test,predictions)\n",
    "sklearn.metrics.accuracy_score(y_test, predictions)"
   ]
  },
  {
   "cell_type": "code",
   "execution_count": 18,
   "metadata": {},
   "outputs": [
    {
     "name": "stderr",
     "output_type": "stream",
     "text": [
      "/var/folders/sc/r0jqlfy569scw9syx066s6n80000gn/T/ipykernel_11312/1062192011.py:1: SettingWithCopyWarning:\n",
      "\n",
      "\n",
      "A value is trying to be set on a copy of a slice from a DataFrame.\n",
      "Try using .loc[row_indexer,col_indexer] = value instead\n",
      "\n",
      "See the caveats in the documentation: https://pandas.pydata.org/pandas-docs/stable/user_guide/indexing.html#returning-a-view-versus-a-copy\n",
      "\n"
     ]
    },
    {
     "data": {
      "text/plain": [
       "<AxesSubplot:>"
      ]
     },
     "execution_count": 18,
     "metadata": {},
     "output_type": "execute_result"
    },
    {
     "data": {
      "image/png": "[encoded data removed]",
      "text/plain": [
       "<Figure size 432x288 with 1 Axes>"
      ]
     },
     "metadata": {
      "needs_background": "light"
     },
     "output_type": "display_data"
    }
   ],
   "source": [
    "df_cross['Propensity'] = classifier.predict_proba(predcross)[:,1].round(1)\n",
    "df_cross['Propensity'].hist()"
   ]
  },
  {
   "cell_type": "markdown",
   "metadata": {},
   "source": [
    "##### Neural Network for binary classification ( 99.8% of accuracy but unusable for our propensity model ) [Scaled data]"
   ]
  },
  {
   "cell_type": "code",
   "execution_count": 19,
   "metadata": {},
   "outputs": [],
   "source": [
    "#  #Neural network with scaled data\n",
    "# Y=df_cross['SOLUTIONS']\n",
    "# X=X_cross[['BEHAVIOUR_SCORE','GENRE','N_DEM_CROSS_SELLING','FLAG_BAD_CUSTOMER','N_MISSED_PAYMENTS','N_TLS_CROSS_SELLING','N_SMS_CROSS_SELLING','N_CAMPAIGN_SENT','N_CAMPAIGN_CLICKED','N_CAMPAIGN_OPENED']]\n",
    "# X_train, X_test, y_train, y_test  =   train_test_split(scaled_data, Y, test_size=.3,random_state=14)\n",
    "# classifier = Sequential()\n",
    "# classifier.add(Dense(240, kernel_initializer = 'uniform', activation = 'relu'))\n",
    "# classifier.add(Dropout(0.1,seed=12))\n",
    "# classifier.add(Dense(120, kernel_initializer = 'uniform', activation = 'relu'))\n",
    "# classifier.add(Dense(1, kernel_initializer = 'uniform', activation = 'sigmoid'))\n",
    "# classifier.compile(optimizer = 'adam', loss = 'binary_crossentropy', metrics = ['accuracy'])\n",
    "# classifier.fit(X_train, y_train, batch_size = 60, epochs = 20)\n",
    "# df_cross['Propensity'] = classifier.predict(scaled_data).round(1)\n",
    "# df_cross['Propensity'].hist()\n",
    "#Less spread of probability values which resemble better the real case (only 70 customers bought a solution the year prior)"
   ]
  },
  {
   "cell_type": "markdown",
   "metadata": {},
   "source": [
    "##### Neural Network for binary classification ( 99.8% of accuracy but unusable for our propensity model ) [Non-scaled data]"
   ]
  },
  {
   "cell_type": "code",
   "execution_count": 20,
   "metadata": {},
   "outputs": [],
   "source": [
    "# #Neural network with non-scaled data\n",
    "# Y=df_cross['SOLUTIONS']\n",
    "# X=X_cross[['BEHAVIOUR_SCORE','GENRE','N_DEM_CROSS_SELLING','FLAG_BAD_CUSTOMER','N_MISSED_PAYMENTS','N_TLS_CROSS_SELLING','N_SMS_CROSS_SELLING','N_CAMPAIGN_SENT','N_CAMPAIGN_CLICKED']]\n",
    "# X_train, X_test, y_train, y_test  =   train_test_split(X, Y, test_size=.5,random_state=14)\n",
    "# classifier = Sequential()\n",
    "# classifier.add(Dense(240, kernel_initializer = 'uniform', activation = 'relu'))\n",
    "# classifier.add(Dropout(0.3,seed=12))\n",
    "# classifier.add(Dense(120, kernel_initializer = 'uniform', activation = 'relu'))\n",
    "# classifier.add(Dense(1, kernel_initializer = 'uniform', activation = 'sigmoid'))\n",
    "# classifier.compile(optimizer = 'adam', loss = 'binary_crossentropy', metrics = ['accuracy'])\n",
    "# classifier.fit(X_train, y_train, batch_size = 60, epochs = 20)\n",
    "# df_cross['Propensity'] = classifier.predict(X).round(1)\n",
    "# df_cross['Propensity'].hist()\n",
    "\n",
    "#Non-scaling the data gives useless prediction all close to 0"
   ]
  },
  {
   "cell_type": "markdown",
   "metadata": {},
   "source": [
    "### DUAL (HIGHLY ENERGY EFFICIENT SOLUTION ) CUSTOMERS"
   ]
  },
  {
   "cell_type": "code",
   "execution_count": 21,
   "metadata": {},
   "outputs": [
    {
     "data": {
      "text/plain": [
       "0    440\n",
       "1     29\n",
       "Name: SOLUTIONS, dtype: int64"
      ]
     },
     "execution_count": 21,
     "metadata": {},
     "output_type": "execute_result"
    }
   ],
   "source": [
    "df_dual['SOLUTIONS'].value_counts()"
   ]
  },
  {
   "cell_type": "code",
   "execution_count": 22,
   "metadata": {},
   "outputs": [],
   "source": [
    "#Same as cross customers \n",
    "Y_dual=df_dual['SOLUTIONS']\n",
    "X_dual=df_dual[['BEHAVIOUR_SCORE','GENRE','N_DEM_SOLUTION','FLAG_BAD_CUSTOMER','N_MISSED_PAYMENTS','N_TLS_SOLUTION','N_SMS_SOLUTION','N_CAMPAIGN_SENT','N_CAMPAIGN_OPENED','N_CAMPAIGN_CLICKED','LAST_YEAR_DESK_VISITS']] #<for this set of customers we use N_TLS_SOLUTION,N_SMS_SOLUTION,N_DEM_SOLUTION not the CROSS SELLING ones\n",
    "scaler=StandardScaler()\n",
    "scaled_data=scaler.fit_transform(X_dual)"
   ]
  },
  {
   "cell_type": "markdown",
   "metadata": {},
   "source": [
    "##### Logistic Regression [Scaled data]"
   ]
  },
  {
   "cell_type": "code",
   "execution_count": 23,
   "metadata": {},
   "outputs": [],
   "source": [
    "# # Propensity model for Cross-selling customers with scaled data \n",
    "# X_train, X_test, y_train, y_test  =   train_test_split(scaled_data, Y_dual, test_size=.3,random_state=14)\n",
    "# print( \"Predictor - Training : \", X_train.shape, \"Predictor - Testing : \", X_test.shape )\n",
    "# from sklearn.naive_bayes import GaussianNB\n",
    "# classifier=GaussianNB()\n",
    "# classifier=classifier.fit(X_train,y_train)\n",
    "# df_dual['Propensity'] = classifier.predict_proba(X_dual)[:,1].round(1)\n",
    "# df_dual['Propensity'].hist()\n"
   ]
  },
  {
   "cell_type": "markdown",
   "metadata": {},
   "source": [
    "##### Logistic Regression [Non-scaled data]"
   ]
  },
  {
   "cell_type": "code",
   "execution_count": 24,
   "metadata": {},
   "outputs": [
    {
     "name": "stdout",
     "output_type": "stream",
     "text": [
      "Predictor - Training :  (328, 11) Predictor - Testing :  (141, 11)\n"
     ]
    },
    {
     "data": {
      "text/plain": [
       "0.9290780141843972"
      ]
     },
     "execution_count": 24,
     "metadata": {},
     "output_type": "execute_result"
    }
   ],
   "source": [
    "# Propensity model for Cross-selling customers with non-scaled data \n",
    "X_train, X_test, y_train, y_test  =   train_test_split(X_dual, Y_dual, test_size=.3,random_state=34)\n",
    "print( \"Predictor - Training : \", X_train.shape, \"Predictor - Testing : \", X_test.shape )\n",
    "from sklearn.naive_bayes import GaussianNB\n",
    "classifier=GaussianNB()\n",
    "classifier=classifier.fit(X_train,y_train)\n",
    "predictions=classifier.predict(X_test)\n",
    "#Analyze accuracy of predictions\n",
    "sklearn.metrics.confusion_matrix(y_test,predictions)\n",
    "sklearn.metrics.accuracy_score(y_test, predictions)"
   ]
  },
  {
   "cell_type": "code",
   "execution_count": 25,
   "metadata": {},
   "outputs": [
    {
     "name": "stderr",
     "output_type": "stream",
     "text": [
      "/var/folders/sc/r0jqlfy569scw9syx066s6n80000gn/T/ipykernel_11312/431909494.py:1: SettingWithCopyWarning:\n",
      "\n",
      "\n",
      "A value is trying to be set on a copy of a slice from a DataFrame.\n",
      "Try using .loc[row_indexer,col_indexer] = value instead\n",
      "\n",
      "See the caveats in the documentation: https://pandas.pydata.org/pandas-docs/stable/user_guide/indexing.html#returning-a-view-versus-a-copy\n",
      "\n"
     ]
    },
    {
     "data": {
      "text/plain": [
       "<AxesSubplot:>"
      ]
     },
     "execution_count": 25,
     "metadata": {},
     "output_type": "execute_result"
    },
    {
     "data": {
      "image/png": "[encoded data removed]",
      "text/plain": [
       "<Figure size 432x288 with 1 Axes>"
      ]
     },
     "metadata": {
      "needs_background": "light"
     },
     "output_type": "display_data"
    }
   ],
   "source": [
    "df_dual['Propensity'] = classifier.predict_proba(X_dual)[:,1].round(1)\n",
    "df_dual['Propensity'].hist()"
   ]
  },
  {
   "cell_type": "markdown",
   "metadata": {},
   "source": [
    "##### Neural Network (99.6% accuracy )[Non-scaled data]"
   ]
  },
  {
   "cell_type": "code",
   "execution_count": 26,
   "metadata": {},
   "outputs": [],
   "source": [
    "# Neural network with non-scaled data\n",
    "# X_train, X_test, y_train, y_test  =   train_test_split(X_dual, Y_dual, test_size=.2)\n",
    "# classifier = Sequential()\n",
    "# classifier.add(Dense(240, kernel_initializer = 'uniform', activation = 'relu'))\n",
    "# classifier.add(Dropout(0.1,seed=12))\n",
    "# classifier.add(Dense(120, kernel_initializer = 'uniform', activation = 'relu'))\n",
    "# classifier.add(Dense(1, kernel_initializer = 'uniform', activation = 'sigmoid'))\n",
    "# classifier.compile(optimizer = 'adam', loss = 'binary_crossentropy', metrics = ['accuracy'])\n",
    "# classifier.fit(X_train, y_train, batch_size = 60, epochs = 20)\n",
    "# df_dual['Propensity'] = classifier.predict(X_dual).round(1)\n",
    "# df_dual['Propensity'].hist()\n"
   ]
  },
  {
   "cell_type": "markdown",
   "metadata": {},
   "source": [
    "##### Neural Network (99.6% accuracy )[Scaled data]"
   ]
  },
  {
   "cell_type": "code",
   "execution_count": 27,
   "metadata": {},
   "outputs": [],
   "source": [
    "# Neural network with scaled data\n",
    "# X_train, X_test, y_train, y_test  =   train_test_split(scaled_data, Y_dual, test_size=.2)\n",
    "# classifier = Sequential()\n",
    "# classifier.add(Dense(240, kernel_initializer = 'uniform', activation = 'relu'))\n",
    "# classifier.add(Dropout(0.1,seed=12))\n",
    "# classifier.add(Dense(120, kernel_initializer = 'uniform', activation = 'relu'))\n",
    "# classifier.add(Dense(1, kernel_initializer = 'uniform', activation = 'sigmoid'))\n",
    "# classifier.compile(optimizer = 'adam', loss = 'binary_crossentropy', metrics = ['accuracy'])\n",
    "# classifier.fit(X_train, y_train, batch_size = 60, epochs = 20)\n",
    "# df_dual['Propensity'] = classifier.predict(scaled_data).round(1)\n",
    "# df_dual['Propensity'].hist()\n",
    "# #Less spread of probability values which resemble better the real case (only 99 customers bought a solution the year prior)"
   ]
  },
  {
   "cell_type": "markdown",
   "metadata": {},
   "source": [
    "### Eligibility Model "
   ]
  },
  {
   "cell_type": "markdown",
   "metadata": {},
   "source": [
    "Once we got the propensity scores for each client , what remained to be done was to develop strategies related to the timing of contact.\n",
    "\n",
    "First we created the dataframes structured in months, adding columns filled with 0 in copies of the dataframes.\\\n",
    "At this point we had to carry out the second grouping required, that was to divide the customers according to the method according to which they will be contacted. We first relied on the 'PHONE_VALIDATED' and 'MAIL_VALIDATED' columns, thus creating four groups:\n",
    "- customers to which a cross selling will be offered by mail\n",
    "- customers to which a cross selling will be offered by sms or phone call\n",
    "- customers to which a dual solution will be offered by mail\n",
    "- customers to which a dual solution will be offered by sms or phone call\n",
    "\n",
    "These groups are represented in the bargraph below, and they are also intersecated, since some customers can be reached both by phone and mail.\\\n",
    "Before computing the strategy, we kept the dataframes only with the months columns, the customers ID, and their propensity score."
   ]
  },
  {
   "cell_type": "code",
   "execution_count": 28,
   "metadata": {},
   "outputs": [],
   "source": [
    "#Adding months columns for final output and allocation of strategies\n",
    "dfmonth_dual=df_dual.copy()\n",
    "dfmonth_dual[['Month_1', 'Month_2', 'Month_3', 'Month_4', 'Month_5', 'Month_6', 'Month_7', 'Month_8', 'Month_9', 'Month_10', 'Month_11', 'Month_12']]=0\n",
    "dfmonth_cross=df_cross.copy()\n",
    "dfmonth_cross[['Month_1', 'Month_2', 'Month_3', 'Month_4', 'Month_5', 'Month_6', 'Month_7', 'Month_8', 'Month_9', 'Month_10', 'Month_11', 'Month_12']]=0\n"
   ]
  },
  {
   "cell_type": "markdown",
   "metadata": {},
   "source": [
    "#### Creating the dataframes needed to split up the consumers"
   ]
  },
  {
   "cell_type": "code",
   "execution_count": 29,
   "metadata": {},
   "outputs": [],
   "source": [
    "df_dual_both=dfmonth_dual[dfmonth_dual['PHONE_VALIDATED']=='OK'] \n",
    "df_dual_both=df_dual_both[df_dual_both['EMAIL_VALIDATED']==1] #Dual Customers who have given consent to both mails and phone communications\n",
    "df_dual_mail=dfmonth_dual[dfmonth_dual['PHONE_VALIDATED']=='KO'] #Dual Customers with no consent for mail communications\n",
    "df_dual_phone=dfmonth_dual[dfmonth_dual['EMAIL_VALIDATED']==0] #Dual Customers with no consent for phone communications\n",
    "df_cross_both=dfmonth_cross[dfmonth_cross['PHONE_VALIDATED']=='OK']\n",
    "df_cross_both=df_cross_both[df_cross_both['EMAIL_VALIDATED']==1]#Cross Customers who have given consent to both mails and phone communications\n",
    "df_cross_mail=dfmonth_cross[dfmonth_cross['PHONE_VALIDATED']=='KO']#Cross Customers with no consent for phone communications\n",
    "df_cross_phone=dfmonth_cross[dfmonth_cross['EMAIL_VALIDATED']==0]#Cross Customers with no consent for mail communications\n",
    "frames1=[df_cross_both,df_cross_mail]\n",
    "crossmail = pd.concat(frames1)#Dataframe for cross selling by mail\n",
    "frames2=[df_cross_both,df_cross_phone]\n",
    "crosssms_tls=pd.concat(frames2) #Dataframe for cross selling by phone (sms and tls) \n",
    "frames3=[df_dual_both,df_dual_mail]\n",
    "solmail=pd.concat(frames3) #Dataframe for solution selling by mail\n",
    "frames4=[df_dual_both,df_dual_phone]\n",
    "solsms_tls=pd.concat(frames4) #Dataframe for solution selling by phone (sms and tls)\n"
   ]
  },
  {
   "cell_type": "markdown",
   "metadata": {},
   "source": [
    "#### Count of number of clients for each initial dataframe split by consensus given "
   ]
  },
  {
   "cell_type": "code",
   "execution_count": 30,
   "metadata": {},
   "outputs": [
    {
     "data": {
      "application/vnd.plotly.v1+json": {
       "config": {
        "plotlyServerURL": "https://plot.ly"
       },
       "data": [
        {
         "alignmentgroup": "True",
         "hovertemplate": "typology=%{x}<br>#clients=%{y}<extra></extra>",
         "legendgroup": "cross_sms_tls",
         "marker": {
          "color": "#636efa",
          "pattern": {
           "shape": ""
          }
         },
         "name": "cross_sms_tls",
         "offsetgroup": "cross_sms_tls",
         "orientation": "v",
         "showlegend": true,
         "textposition": "auto",
         "texttemplate": "%{y}",
         "type": "bar",
         "x": [
          "cross_sms_tls"
         ],
         "xaxis": "x",
         "y": [
          118
         ],
         "yaxis": "y"
        },
        {
         "alignmentgroup": "True",
         "hovertemplate": "typology=%{x}<br>#clients=%{y}<extra></extra>",
         "legendgroup": "cross_mail",
         "marker": {
          "color": "#EF553B",
          "pattern": {
           "shape": ""
          }
         },
         "name": "cross_mail",
         "offsetgroup": "cross_mail",
         "orientation": "v",
         "showlegend": true,
         "textposition": "auto",
         "texttemplate": "%{y}",
         "type": "bar",
         "x": [
          "cross_mail"
         ],
         "xaxis": "x",
         "y": [
          464
         ],
         "yaxis": "y"
        },
        {
         "alignmentgroup": "True",
         "hovertemplate": "typology=%{x}<br>#clients=%{y}<extra></extra>",
         "legendgroup": "solution_sms_tls",
         "marker": {
          "color": "#00cc96",
          "pattern": {
           "shape": ""
          }
         },
         "name": "solution_sms_tls",
         "offsetgroup": "solution_sms_tls",
         "orientation": "v",
         "showlegend": true,
         "textposition": "auto",
         "texttemplate": "%{y}",
         "type": "bar",
         "x": [
          "solution_sms_tls"
         ],
         "xaxis": "x",
         "y": [
          5065
         ],
         "yaxis": "y"
        },
        {
         "alignmentgroup": "True",
         "hovertemplate": "typology=%{x}<br>#clients=%{y}<extra></extra>",
         "legendgroup": "solution_mail",
         "marker": {
          "color": "#ab63fa",
          "pattern": {
           "shape": ""
          }
         },
         "name": "solution_mail",
         "offsetgroup": "solution_mail",
         "orientation": "v",
         "showlegend": true,
         "textposition": "auto",
         "texttemplate": "%{y}",
         "type": "bar",
         "x": [
          "solution_mail"
         ],
         "xaxis": "x",
         "y": [
          43135
         ],
         "yaxis": "y"
        }
       ],
       "layout": {
        "barmode": "relative",
        "legend": {
         "title": {
          "text": "typology"
         },
         "tracegroupgap": 0
        },
        "template": {
         "data": {
          "bar": [
           {
            "error_x": {
             "color": "#2a3f5f"
            },
            "error_y": {
             "color": "#2a3f5f"
            },
            "marker": {
             "line": {
              "color": "#E5ECF6",
              "width": 0.5
             },
             "pattern": {
              "fillmode": "overlay",
              "size": 10,
              "solidity": 0.2
             }
            },
            "type": "bar"
           }
          ],
          "barpolar": [
           {
            "marker": {
             "line": {
              "color": "#E5ECF6",
              "width": 0.5
             },
             "pattern": {
              "fillmode": "overlay",
              "size": 10,
              "solidity": 0.2
             }
            },
            "type": "barpolar"
           }
          ],
          "carpet": [
           {
            "aaxis": {
             "endlinecolor": "#2a3f5f",
             "gridcolor": "white",
             "linecolor": "white",
             "minorgridcolor": "white",
             "startlinecolor": "#2a3f5f"
            },
            "baxis": {
             "endlinecolor": "#2a3f5f",
             "gridcolor": "white",
             "linecolor": "white",
             "minorgridcolor": "white",
             "startlinecolor": "#2a3f5f"
            },
            "type": "carpet"
           }
          ],
          "choropleth": [
           {
            "colorbar": {
             "outlinewidth": 0,
             "ticks": ""
            },
            "type": "choropleth"
           }
          ],
          "contour": [
           {
            "colorbar": {
             "outlinewidth": 0,
             "ticks": ""
            },
            "colorscale": [
             [
              0,
              "#0d0887"
             ],
             [
              0.1111111111111111,
              "#46039f"
             ],
             [
              0.2222222222222222,
              "#7201a8"
             ],
             [
              0.3333333333333333,
              "#9c179e"
             ],
             [
              0.4444444444444444,
              "#bd3786"
             ],
             [
              0.5555555555555556,
              "#d8576b"
             ],
             [
              0.6666666666666666,
              "#ed7953"
             ],
             [
              0.7777777777777778,
              "#fb9f3a"
             ],
             [
              0.8888888888888888,
              "#fdca26"
             ],
             [
              1,
              "#f0f921"
             ]
            ],
            "type": "contour"
           }
          ],
          "contourcarpet": [
           {
            "colorbar": {
             "outlinewidth": 0,
             "ticks": ""
            },
            "type": "contourcarpet"
           }
          ],
          "heatmap": [
           {
            "colorbar": {
             "outlinewidth": 0,
             "ticks": ""
            },
            "colorscale": [
             [
              0,
              "#0d0887"
             ],
             [
              0.1111111111111111,
              "#46039f"
             ],
             [
              0.2222222222222222,
              "#7201a8"
             ],
             [
              0.3333333333333333,
              "#9c179e"
             ],
             [
              0.4444444444444444,
              "#bd3786"
             ],
             [
              0.5555555555555556,
              "#d8576b"
             ],
             [
              0.6666666666666666,
              "#ed7953"
             ],
             [
              0.7777777777777778,
              "#fb9f3a"
             ],
             [
              0.8888888888888888,
              "#fdca26"
             ],
             [
              1,
              "#f0f921"
             ]
            ],
            "type": "heatmap"
           }
          ],
          "heatmapgl": [
           {
            "colorbar": {
             "outlinewidth": 0,
             "ticks": ""
            },
            "colorscale": [
             [
              0,
              "#0d0887"
             ],
             [
              0.1111111111111111,
              "#46039f"
             ],
             [
              0.2222222222222222,
              "#7201a8"
             ],
             [
              0.3333333333333333,
              "#9c179e"
             ],
             [
              0.4444444444444444,
              "#bd3786"
             ],
             [
              0.5555555555555556,
              "#d8576b"
             ],
             [
              0.6666666666666666,
              "#ed7953"
             ],
             [
              0.7777777777777778,
              "#fb9f3a"
             ],
             [
              0.8888888888888888,
              "#fdca26"
             ],
             [
              1,
              "#f0f921"
             ]
            ],
            "type": "heatmapgl"
           }
          ],
          "histogram": [
           {
            "marker": {
             "pattern": {
              "fillmode": "overlay",
              "size": 10,
              "solidity": 0.2
             }
            },
            "type": "histogram"
           }
          ],
          "histogram2d": [
           {
            "colorbar": {
             "outlinewidth": 0,
             "ticks": ""
            },
            "colorscale": [
             [
              0,
              "#0d0887"
             ],
             [
              0.1111111111111111,
              "#46039f"
             ],
             [
              0.2222222222222222,
              "#7201a8"
             ],
             [
              0.3333333333333333,
              "#9c179e"
             ],
             [
              0.4444444444444444,
              "#bd3786"
             ],
             [
              0.5555555555555556,
              "#d8576b"
             ],
             [
              0.6666666666666666,
              "#ed7953"
             ],
             [
              0.7777777777777778,
              "#fb9f3a"
             ],
             [
              0.8888888888888888,
              "#fdca26"
             ],
             [
              1,
              "#f0f921"
             ]
            ],
            "type": "histogram2d"
           }
          ],
          "histogram2dcontour": [
           {
            "colorbar": {
             "outlinewidth": 0,
             "ticks": ""
            },
            "colorscale": [
             [
              0,
              "#0d0887"
             ],
             [
              0.1111111111111111,
              "#46039f"
             ],
             [
              0.2222222222222222,
              "#7201a8"
             ],
             [
              0.3333333333333333,
              "#9c179e"
             ],
             [
              0.4444444444444444,
              "#bd3786"
             ],
             [
              0.5555555555555556,
              "#d8576b"
             ],
             [
              0.6666666666666666,
              "#ed7953"
             ],
             [
              0.7777777777777778,
              "#fb9f3a"
             ],
             [
              0.8888888888888888,
              "#fdca26"
             ],
             [
              1,
              "#f0f921"
             ]
            ],
            "type": "histogram2dcontour"
           }
          ],
          "mesh3d": [
           {
            "colorbar": {
             "outlinewidth": 0,
             "ticks": ""
            },
            "type": "mesh3d"
           }
          ],
          "parcoords": [
           {
            "line": {
             "colorbar": {
              "outlinewidth": 0,
              "ticks": ""
             }
            },
            "type": "parcoords"
           }
          ],
          "pie": [
           {
            "automargin": true,
            "type": "pie"
           }
          ],
          "scatter": [
           {
            "marker": {
             "colorbar": {
              "outlinewidth": 0,
              "ticks": ""
             }
            },
            "type": "scatter"
           }
          ],
          "scatter3d": [
           {
            "line": {
             "colorbar": {
              "outlinewidth": 0,
              "ticks": ""
             }
            },
            "marker": {
             "colorbar": {
              "outlinewidth": 0,
              "ticks": ""
             }
            },
            "type": "scatter3d"
           }
          ],
          "scattercarpet": [
           {
            "marker": {
             "colorbar": {
              "outlinewidth": 0,
              "ticks": ""
             }
            },
            "type": "scattercarpet"
           }
          ],
          "scattergeo": [
           {
            "marker": {
             "colorbar": {
              "outlinewidth": 0,
              "ticks": ""
             }
            },
            "type": "scattergeo"
           }
          ],
          "scattergl": [
           {
            "marker": {
             "colorbar": {
              "outlinewidth": 0,
              "ticks": ""
             }
            },
            "type": "scattergl"
           }
          ],
          "scattermapbox": [
           {
            "marker": {
             "colorbar": {
              "outlinewidth": 0,
              "ticks": ""
             }
            },
            "type": "scattermapbox"
           }
          ],
          "scatterpolar": [
           {
            "marker": {
             "colorbar": {
              "outlinewidth": 0,
              "ticks": ""
             }
            },
            "type": "scatterpolar"
           }
          ],
          "scatterpolargl": [
           {
            "marker": {
             "colorbar": {
              "outlinewidth": 0,
              "ticks": ""
             }
            },
            "type": "scatterpolargl"
           }
          ],
          "scatterternary": [
           {
            "marker": {
             "colorbar": {
              "outlinewidth": 0,
              "ticks": ""
             }
            },
            "type": "scatterternary"
           }
          ],
          "surface": [
           {
            "colorbar": {
             "outlinewidth": 0,
             "ticks": ""
            },
            "colorscale": [
             [
              0,
              "#0d0887"
             ],
             [
              0.1111111111111111,
              "#46039f"
             ],
             [
              0.2222222222222222,
              "#7201a8"
             ],
             [
              0.3333333333333333,
              "#9c179e"
             ],
             [
              0.4444444444444444,
              "#bd3786"
             ],
             [
              0.5555555555555556,
              "#d8576b"
             ],
             [
              0.6666666666666666,
              "#ed7953"
             ],
             [
              0.7777777777777778,
              "#fb9f3a"
             ],
             [
              0.8888888888888888,
              "#fdca26"
             ],
             [
              1,
              "#f0f921"
             ]
            ],
            "type": "surface"
           }
          ],
          "table": [
           {
            "cells": {
             "fill": {
              "color": "#EBF0F8"
             },
             "line": {
              "color": "white"
             }
            },
            "header": {
             "fill": {
              "color": "#C8D4E3"
             },
             "line": {
              "color": "white"
             }
            },
            "type": "table"
           }
          ]
         },
         "layout": {
          "annotationdefaults": {
           "arrowcolor": "#2a3f5f",
           "arrowhead": 0,
           "arrowwidth": 1
          },
          "autotypenumbers": "strict",
          "coloraxis": {
           "colorbar": {
            "outlinewidth": 0,
            "ticks": ""
           }
          },
          "colorscale": {
           "diverging": [
            [
             0,
             "#8e0152"
            ],
            [
             0.1,
             "#c51b7d"
            ],
            [
             0.2,
             "#de77ae"
            ],
            [
             0.3,
             "#f1b6da"
            ],
            [
             0.4,
             "#fde0ef"
            ],
            [
             0.5,
             "#f7f7f7"
            ],
            [
             0.6,
             "#e6f5d0"
            ],
            [
             0.7,
             "#b8e186"
            ],
            [
             0.8,
             "#7fbc41"
            ],
            [
             0.9,
             "#4d9221"
            ],
            [
             1,
             "#276419"
            ]
           ],
           "sequential": [
            [
             0,
             "#0d0887"
            ],
            [
             0.1111111111111111,
             "#46039f"
            ],
            [
             0.2222222222222222,
             "#7201a8"
            ],
            [
             0.3333333333333333,
             "#9c179e"
            ],
            [
             0.4444444444444444,
             "#bd3786"
            ],
            [
             0.5555555555555556,
             "#d8576b"
            ],
            [
             0.6666666666666666,
             "#ed7953"
            ],
            [
             0.7777777777777778,
             "#fb9f3a"
            ],
            [
             0.8888888888888888,
             "#fdca26"
            ],
            [
             1,
             "#f0f921"
            ]
           ],
           "sequentialminus": [
            [
             0,
             "#0d0887"
            ],
            [
             0.1111111111111111,
             "#46039f"
            ],
            [
             0.2222222222222222,
             "#7201a8"
            ],
            [
             0.3333333333333333,
             "#9c179e"
            ],
            [
             0.4444444444444444,
             "#bd3786"
            ],
            [
             0.5555555555555556,
             "#d8576b"
            ],
            [
             0.6666666666666666,
             "#ed7953"
            ],
            [
             0.7777777777777778,
             "#fb9f3a"
            ],
            [
             0.8888888888888888,
             "#fdca26"
            ],
            [
             1,
             "#f0f921"
            ]
           ]
          },
          "colorway": [
           "#636efa",
           "#EF553B",
           "#00cc96",
           "#ab63fa",
           "#FFA15A",
           "#19d3f3",
           "#FF6692",
           "#B6E880",
           "#FF97FF",
           "#FECB52"
          ],
          "font": {
           "color": "#2a3f5f"
          },
          "geo": {
           "bgcolor": "white",
           "lakecolor": "white",
           "landcolor": "#E5ECF6",
           "showlakes": true,
           "showland": true,
           "subunitcolor": "white"
          },
          "hoverlabel": {
           "align": "left"
          },
          "hovermode": "closest",
          "mapbox": {
           "style": "light"
          },
          "paper_bgcolor": "white",
          "plot_bgcolor": "#E5ECF6",
          "polar": {
           "angularaxis": {
            "gridcolor": "white",
            "linecolor": "white",
            "ticks": ""
           },
           "bgcolor": "#E5ECF6",
           "radialaxis": {
            "gridcolor": "white",
            "linecolor": "white",
            "ticks": ""
           }
          },
          "scene": {
           "xaxis": {
            "backgroundcolor": "#E5ECF6",
            "gridcolor": "white",
            "gridwidth": 2,
            "linecolor": "white",
            "showbackground": true,
            "ticks": "",
            "zerolinecolor": "white"
           },
           "yaxis": {
            "backgroundcolor": "#E5ECF6",
            "gridcolor": "white",
            "gridwidth": 2,
            "linecolor": "white",
            "showbackground": true,
            "ticks": "",
            "zerolinecolor": "white"
           },
           "zaxis": {
            "backgroundcolor": "#E5ECF6",
            "gridcolor": "white",
            "gridwidth": 2,
            "linecolor": "white",
            "showbackground": true,
            "ticks": "",
            "zerolinecolor": "white"
           }
          },
          "shapedefaults": {
           "line": {
            "color": "#2a3f5f"
           }
          },
          "ternary": {
           "aaxis": {
            "gridcolor": "white",
            "linecolor": "white",
            "ticks": ""
           },
           "baxis": {
            "gridcolor": "white",
            "linecolor": "white",
            "ticks": ""
           },
           "bgcolor": "#E5ECF6",
           "caxis": {
            "gridcolor": "white",
            "linecolor": "white",
            "ticks": ""
           }
          },
          "title": {
           "x": 0.05
          },
          "xaxis": {
           "automargin": true,
           "gridcolor": "white",
           "linecolor": "white",
           "ticks": "",
           "title": {
            "standoff": 15
           },
           "zerolinecolor": "white",
           "zerolinewidth": 2
          },
          "yaxis": {
           "automargin": true,
           "gridcolor": "white",
           "linecolor": "white",
           "ticks": "",
           "title": {
            "standoff": 15
           },
           "zerolinecolor": "white",
           "zerolinewidth": 2
          }
         }
        },
        "title": {
         "text": "Customers divided by consent groups"
        },
        "uniformtext": {
         "minsize": 0.4
        },
        "xaxis": {
         "anchor": "y",
         "categoryarray": [
          "cross_sms_tls",
          "cross_mail",
          "solution_sms_tls",
          "solution_mail"
         ],
         "categoryorder": "array",
         "domain": [
          0,
          1
         ],
         "tickangle": 90,
         "title": {
          "text": "Type of clients"
         }
        },
        "yaxis": {
         "anchor": "x",
         "domain": [
          0,
          1
         ],
         "title": {
          "text": "#clients"
         }
        }
       }
      }
     },
     "metadata": {},
     "output_type": "display_data"
    }
   ],
   "source": [
    "v1=len(crosssms_tls)\n",
    "v2=len(crossmail)\n",
    "v3=len(solsms_tls)\n",
    "v4=len(solmail)\n",
    "l=[v1,v2,v3,v4]\n",
    "l.sort()\n",
    "columns=['cross_sms_tls','cross_mail','solution_sms_tls','solution_mail']\n",
    "dizionario={'#clients':l,'typology':columns}\n",
    "a=pd.DataFrame(dizionario)\n",
    "fig= px.bar(a, x = 'typology', y = '#clients', color = 'typology', title = 'Customers divided by consent groups',text_auto=True)\n",
    "fig.update_layout(xaxis_tickangle=90, xaxis_title = 'Type of clients')\n",
    "fig.update_layout(uniformtext_minsize=0.4)\n",
    "fig.show()\n",
    "#This is an interactive graph by pressing one of the buttons in the legend you can add or remove groups of the chart"
   ]
  },
  {
   "cell_type": "code",
   "execution_count": 31,
   "metadata": {},
   "outputs": [],
   "source": [
    "#Dropping unnecessary columns \n",
    "crossmail=crossmail.drop(crossmail.iloc[:,1:-13],axis=1)\n",
    "crosssms_tls=crosssms_tls.drop(crosssms_tls.iloc[:,1:-13],axis=1)\n",
    "solmail=solmail.drop(solmail.iloc[:,1:-13],axis=1)\n",
    "solsms_tls=solsms_tls.drop(solsms_tls.iloc[:,1:-13],axis=1)\n"
   ]
  },
  {
   "cell_type": "markdown",
   "metadata": {},
   "source": [
    "### Dataframes separation by propensity score (High,Medium,Low)\n",
    "\n",
    "In this section we exploited the propensity score to divide the customers in 3 different classes, separating them according to their propensity valuethat we assumed to be high if Propensity>0.5, medium if 0.2< Propensity< 0.5, and low if Propensity <0.2.\\\n",
    "This separation was applied to the dataframe splitted as described in the previous steps, since we had strict rule to follow when elaborating the contact strategies."
   ]
  },
  {
   "cell_type": "code",
   "execution_count": 32,
   "metadata": {},
   "outputs": [],
   "source": [
    "#for cross dem csv\n",
    "demhigh=crossmail[crossmail['Propensity']>0.5]\n",
    "demmedium=crossmail[crossmail['Propensity']<0.5]\n",
    "demmedium=demmedium[demmedium['Propensity' ]>0.2]\n",
    "demlow=crossmail[crossmail['Propensity']<0.2]\n",
    "\n",
    "#for cross sms csv\n",
    "smshigh=crosssms_tls[crosssms_tls['Propensity']>0.5]\n",
    "smsmedium=crosssms_tls[crosssms_tls['Propensity']<0.5]\n",
    "smsmedium=smsmedium[smsmedium['Propensity' ]>0.2]\n",
    "smslow=crosssms_tls[crosssms_tls['Propensity']<0.2]\n",
    "\n",
    "#for cross tls csv\n",
    "tlshigh=crosssms_tls[crosssms_tls['Propensity']>0.5]\n",
    "tlsmedium=crosssms_tls[crosssms_tls['Propensity']<0.5]\n",
    "tlsmedium=tlsmedium[tlsmedium['Propensity' ]>0.2]\n",
    "tlslow=crosssms_tls[crosssms_tls['Propensity']<0.2]\n",
    "\n",
    "#for sol dem csv \n",
    "soldemhigh=solmail[solmail['Propensity']>0.5]\n",
    "soldemmedium=solmail[solmail['Propensity']<0.5]\n",
    "soldemmedium=soldemmedium[soldemmedium['Propensity' ]>0.2]\n",
    "soldemlow=solmail[solmail['Propensity']<0.2]\n",
    "\n",
    "#for sol sms\n",
    "solsmshigh=solsms_tls[solsms_tls['Propensity']>0.5]\n",
    "solsmsmedium=solsms_tls[solsms_tls['Propensity']<0.5]\n",
    "solsmsmedium=solsmsmedium[solsmsmedium['Propensity' ]>0.2]\n",
    "solsmslow=solsms_tls[solsms_tls['Propensity']<0.2]\n",
    "\n",
    "#for sol tls \n",
    "soltlshigh=solsms_tls[solsms_tls['Propensity']>0.5]\n",
    "soltlsmedium=solsms_tls[solsms_tls['Propensity']<0.5]\n",
    "soltlsmedium=soltlsmedium[soltlsmedium['Propensity' ]>0.2]\n",
    "soltlslow=solsms_tls[solsms_tls['Propensity']<0.2]"
   ]
  },
  {
   "cell_type": "markdown",
   "metadata": {},
   "source": [
    "### Functions to allocate the communication strategies per month \n",
    "\n",
    "The strategies elaborated for the diffeent groups are the following:\n",
    "\n",
    "##### High propensity\n",
    "- Optimal for Cross customers DEM&SMS (Propensity >0.5)--> One contact with each channel every 2 months\n",
    "- Optimal for Cross customers TLS (Propensity>0.5)--> One call in the month after a DEM&SMS contact and another one 6 months later\n",
    "- Optimal for Solution customers DEM&SMS (Propensity>0.5) --> For each channel one random contact in the year and then in a random month after at least two months\n",
    "- Optimal for Solution customers TLS (Propensity >0.5)--> One call random call without overlapping with contacts\\\n",
    "\n",
    "##### Medium propensity\n",
    "- Strategy for Cross customers  DEM&SMS (0.2< Propensity score <0.5 )--> One contact with both channels every 3 months\n",
    "- Strategy for Cross customers TLS (0.2< Propensity score <0.5 )-- >One call in months with no contact\n",
    "- Strategy for Solution customers  DEM&SMS (0.2< Propensity score <0.5 )--> For each channel one contact during the year\n",
    "- Strategy for Solution  customers TLS (0.2< Propensity score <0.5 ) --> One call a month after the first contact by sms or dem\n",
    "\n",
    "##### Low propensity\n",
    "- Strategy for Cross customers  DEM&SMS (Propensity score <0.2) --> one contact every four months\n",
    "- Strategy for Cross customers TLS (Propensity score <0.2)--> No call (for avoiding churn)\n",
    "- Strategy for Solution customers  DEM&SMS (Propensity score <0.2) --> Just one random contact in the year with both channels\n",
    "- Strategy for Solution customers TLS (Propensity score <0.2)--> No call (for avoiding churn)\n",
    "\n",
    "We created these strategies appliyng to each dataframe specific functions, keeping in mind that sms and mail can be sent togheter, while the phone call should not be in the same month of the other contact methods, so these functions take care also of the concatenation with the dataframe regarding sms contacts.\\\n",
    "The number of contacts for method and for groups are fixed, while the specific month can change due to the random indexes selected by  the functions.\\\n",
    "With this structure we didn't need to build a function for each specific group, since some of them are usable in two of the groups (for istance month_1, one contact for year at random with dem or sms)."
   ]
  },
  {
   "cell_type": "code",
   "execution_count": 33,
   "metadata": {},
   "outputs": [],
   "source": [
    "#optimal for Cross customers dem & sms (Propensity >0.5)-->one contact with each channel every 2 months \n",
    "def months_6(df):\n",
    "    for el in range (0, len(df['ID'])):\n",
    "        i = 2\n",
    "        while i < 14:\n",
    "            df.iloc[el, i]=1\n",
    "            i += 2\n",
    "    return(df)\n",
    "\n",
    "#optimal for Cross customers tls after first function (Propensity>0.5)-->one call in the month after a DEM&SMS contact and another one 6 months later\n",
    "def tel_2(df2, df3):\n",
    "    common_items=set(df2['ID']).intersection(set(df3['ID']))\n",
    "    row=0\n",
    "    for id in df2['ID']:\n",
    "        i = random.randint(2,7)\n",
    "        if id in common_items:\n",
    "            while i < 14:\n",
    "                if df3.iloc[row,i]==1:\n",
    "                    df2.iloc[row,i]=0\n",
    "                    i += 1\n",
    "                else:\n",
    "                    df2.iloc[row, i]=1\n",
    "                    i+=6\n",
    "            row+=1\n",
    "        else:\n",
    "            df2.iloc[row, i]=1\n",
    "            i+=6\n",
    "            row+=1\n",
    "    return(df2)\n",
    "\n",
    "#optimal for Solution customers dem & sms (Propensity>0.5) --> one contact with one of the two channels randomly in the year and then in a random month after at least two months\n",
    "def months_2(df):\n",
    "    for el in range (0, len(df['ID'])):\n",
    "        i = random.randint(2,10)\n",
    "        df.iloc[el, i]=1\n",
    "        i += 2\n",
    "        e = random.randint(i,13)\n",
    "        df.iloc[el, e]=1\n",
    "    return (df)\n",
    "\n",
    "#optimal for sol tls after previous function (Propensity >0.5)-->one call random call without overlapping with contacts\n",
    "def tel1(df2, df3):\n",
    "    common_items=set(df2['ID']).intersection(set(df3['ID']))\n",
    "    row=0\n",
    "    for x in df2['ID']:\n",
    "        i = random.randint(2,14) #colonne \n",
    "        if x in common_items:\n",
    "            while i < 14:\n",
    "                if df3.iloc[row, i]==1:\n",
    "                    df2.iloc[row,i]==0\n",
    "                    i += 1\n",
    "                else:\n",
    "                    df2.iloc[row, i]=1   \n",
    "                    row+=1\n",
    "                    break\n",
    "        else:\n",
    "            df2.iloc[row, i]=1\n",
    "            row+=1\n",
    "    return(df2)\n",
    "\n",
    "#Strategy for Cross customers  DEM&SMS (Propensity score >0.5 and <0.2)-->one contact with both channels every 3 months\n",
    "def months_4(df):\n",
    "    for el in range (0, len(df['ID'])):\n",
    "        i = random.randint(2,4)\n",
    "        while i < 14:\n",
    "            df.iloc[el, i]=1\n",
    "            i += 3\n",
    "    return (df)\n",
    "\n",
    "#Strategy for Cross customers TLS (Propensity score >0.5 and <0.2)-->one call in months with no contact\n",
    "\n",
    "#Strategy for Solution customers  DEM&SMS (Propensity score >0.5 and <0.2)-->one contact with one of the channels during the year and onther one with the other ,we exclude the last month for allowing the concatenation of this strategy with that of solution tls for medium propensity score (contacting the month after)\n",
    "def month_1(df):\n",
    "    for el in range (0, len(df['ID'])):\n",
    "        i = random.randint(2,12)\n",
    "        df.iloc[el, i]=1\n",
    "    return (df)\n",
    "\n",
    "#Strategy for Solution  customers TLS (Propensity score >0.5 and <0.2) --> one call a month after the first contact by sms or dem\n",
    "\n",
    "def telonemonthlater(df2,df3):\n",
    "    common_items=set(df2['ID']).intersection(set(df3['ID']))\n",
    "    row=0\n",
    "    for id in df2['ID']: \n",
    "        if id in common_items:\n",
    "            for col in range(2,len(df2.columns)-1):\n",
    "                if df3.iloc[row, col]==1:\n",
    "                    df2.iloc[row,col+1]=1\n",
    "                else:\n",
    "                    df2.iloc[row, col+1]=0  \n",
    "        row+=1\n",
    "    return(df2)\n",
    "\n",
    "#Strategy for Cross customers  DEM&SMS (Propensity score <0.2) --> one contact every four months\n",
    "def months_3(df):\n",
    "    for el in range (0, len(df['ID'])):\n",
    "        i = random.randint(2,6)\n",
    "        df.iloc[el, i]=1\n",
    "        while i < 14:\n",
    "            df.iloc[el, i]=1\n",
    "            i += 4\n",
    "    return (df)\n",
    "\n",
    "#Strategy for Cross customers TLS (Propensity score <0.2)--> No call (for avoiding churn)\n",
    "\n",
    "#Strategy for Solution customers  DEM&SMS (Propensity score <0.2) --> Just one random contact in the year with one of the two channels and then another with the other channel without overlapping\n",
    "#Apply function month_1 \n",
    "\n",
    "#Strategy for Solution customers TLS (Propensity score <0.2)--> No call (for avoiding churn)\n",
    "\n"
   ]
  },
  {
   "cell_type": "markdown",
   "metadata": {},
   "source": [
    "#### Inserting monthly strategies for each group"
   ]
  },
  {
   "cell_type": "code",
   "execution_count": 34,
   "metadata": {},
   "outputs": [],
   "source": [
    "demhigh=months_6(demhigh)\n",
    "#high score cross mail\n",
    "smshigh=months_6(smshigh)\n",
    "#high score cross sms\n",
    "tlshigh=tel_2(tlshigh,smshigh)\n",
    "#high score cross tls\n",
    "soldemhigh=months_2(soldemhigh)\n",
    "#high score sol mail\n",
    "solsmshigh=months_2(solsmshigh)\n",
    "#high score sol sms\n",
    "soltslshigh=tel1(soltlshigh,solsmshigh)\n",
    "#medium score cross dem \n",
    "demmedium=months_4(demmedium)\n",
    "#medium score cross mail\n",
    "smsmedium=months_4(smsmedium)\n",
    "#medium score cross sms\n",
    "tlsmedium=tel1(tlsmedium, smsmedium)\n",
    "#medium score cross tls\n",
    "soldemmedium=month_1(soldemmedium)\n",
    "#medium score solution dem\n",
    "solsmsmedium=month_1(solsmsmedium)\n",
    "#medium score solution sms\n",
    "soltlsmedium=telonemonthlater(soltlsmedium, solsmsmedium)\n",
    "#medium score solution sms\n",
    "demlow=months_3(demlow)\n",
    "#low score cross mail\n",
    "smslow=months_3(smslow)\n",
    "#low score cross sms\n",
    "soldemlow=month_1(soldemlow)\n",
    "#low score sol mail\n",
    "solsmslow=month_1(solsmslow)\n",
    "#low score solution sms"
   ]
  },
  {
   "cell_type": "markdown",
   "metadata": {},
   "source": [
    "### Concatenating,ordering by ID and esporting different groups into csv files\n",
    "\n",
    "After the applying the functions to their specific group, the last step was to concatenate the classes of customers, aggregating the datasets previously splitted by score, to obtain the final 6 csv, composed by the months columns and the ID to identify the customers (that we sorted to facilitate the order correspondence in the different files):\n",
    "- Cross_Selling_DEM.csv\n",
    "- Cross_Selling_SMS.csv\n",
    "- Cross_Selling_TLS.csv\n",
    "- Solution_DEM.csv\n",
    "- Solution_SMS.csv\n",
    "- Solution_TLS.csv"
   ]
  },
  {
   "cell_type": "code",
   "execution_count": 35,
   "metadata": {},
   "outputs": [],
   "source": [
    "Cross_DEM=pd.concat([demhigh,demmedium,demlow]).sort_values(by='ID').drop('Propensity',axis=1)\n",
    "Cross_DEM.to_csv('Cross_Selling_DEM.csv')\n",
    "Cross_SMS=pd.concat([smshigh,smsmedium,smslow]).sort_values(by='ID').drop('Propensity',axis=1)\n",
    "Cross_SMS.to_csv('Cross_Selling_SMS.csv')\n",
    "Cross_TLS=pd.concat([tlshigh,tlsmedium,tlslow]).sort_values(by='ID').drop('Propensity',axis=1)\n",
    "Cross_TLS.to_csv('Cross_Selling_TLS.csv')\n",
    "Solution_DEM=pd.concat([soldemhigh,soldemmedium,soldemlow]).sort_values(by='ID').drop('Propensity',axis=1)\n",
    "Solution_DEM.to_csv('Solution_DEM.csv')\n",
    "Solution_SMS=pd.concat([solsmshigh,solsmsmedium,solsmslow]).sort_values(by='ID').drop('Propensity',axis=1)\n",
    "Solution_SMS.to_csv('Solution_SMS.csv')\n",
    "Solution_TLS=pd.concat([soltlshigh,soltlsmedium,soltlslow]).sort_values(by='ID').drop('Propensity',axis=1)\n",
    "Solution_TLS.to_csv('Solution_TLS.csv')"
   ]
  }
 ],
 "metadata": {
  "interpreter": {
   "hash": "991c7dc2d139f841e5ebb3a840d08ca4fa2bd820468edd6c0468c72534216241"
  },
  "kernelspec": {
   "display_name": "Python 3 (ipykernel)",
   "language": "python",
   "name": "python3"
  },
  "language_info": {
   "codemirror_mode": {
    "name": "ipython",
    "version": 3
   },
   "file_extension": ".py",
   "mimetype": "text/x-python",
   "name": "python",
   "nbconvert_exporter": "python",
   "pygments_lexer": "ipython3",
   "version": "3.9.7"
  }
 },
 "nbformat": 4,
 "nbformat_minor": 2
}
